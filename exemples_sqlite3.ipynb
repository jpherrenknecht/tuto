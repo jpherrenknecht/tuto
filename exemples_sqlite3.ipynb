{
 "cells": [
  {
   "cell_type": "markdown",
   "metadata": {},
   "source": [
    "<h2>Utilisation de sqlite3"
   ]
  },
  {
   "cell_type": "markdown",
   "metadata": {},
   "source": [
    "<h3>Importation, Connection, Curseur"
   ]
  },
  {
   "cell_type": "code",
   "execution_count": 27,
   "metadata": {},
   "outputs": [],
   "source": [
    "import sqlite3\n",
    "connexion=sqlite3.connect('example.db')\n",
    "curseur=connexion.cursor()\n"
   ]
  },
  {
   "cell_type": "markdown",
   "metadata": {},
   "source": [
    "## type des champs"
   ]
  },
  {
   "cell_type": "markdown",
   "metadata": {},
   "source": [
    "SQLite\tPython  \n",
    "NULL\tNone  \n",
    "INTEGER\tint  \n",
    "REAL\tfloat  \n",
    "TEXT\tstr par défaut  \n",
    "BLOB\tbytes  "
   ]
  },
  {
   "cell_type": "code",
   "execution_count": 28,
   "metadata": {},
   "outputs": [
    {
     "data": {
      "text/plain": [
       "<sqlite3.Cursor at 0x7f2f2f76e2d0>"
      ]
     },
     "execution_count": 28,
     "metadata": {},
     "output_type": "execute_result"
    }
   ],
   "source": [
    "# Create table\n",
    "curseur.execute('''CREATE TABLE IF NOT EXISTS scores(\n",
    "    id INTEGER PRIMARY KEY AUTOINCREMENT UNIQUE,\n",
    "    pseudo TEXT,\n",
    "    valeur INTEGER)''')"
   ]
  },
  {
   "cell_type": "markdown",
   "metadata": {},
   "source": [
    "## Insertion"
   ]
  },
  {
   "cell_type": "code",
   "execution_count": 30,
   "metadata": {},
   "outputs": [],
   "source": [
    "donnees = [(\"toto\", 1000), (\"tata\", 750), (\"titi\", 500)]\n",
    "#Exécutions multiples\n",
    "for donnee in donnees:\n",
    "    curseur.execute('''INSERT INTO scores (pseudo, valeur) VALUES (?, ?)''', donnee)\n",
    "connexion.commit()  #Ne pas oublier de valider les modifications"
   ]
  },
  {
   "cell_type": "code",
   "execution_count": 31,
   "metadata": {},
   "outputs": [],
   "source": [
    "donnees = [(\"toto\", 1000), (\"tata\", 750), (\"titi\", 500)]\n",
    "#Exécutions multiples\n",
    "curseur.executemany(\"INSERT INTO scores (pseudo, valeur) VALUES (?, ?)\", donnees)\n",
    "connexion.commit()  #Ne pas oublier de valider les modifications"
   ]
  },
  {
   "cell_type": "markdown",
   "metadata": {},
   "source": [
    "## Executemany"
   ]
  },
  {
   "cell_type": "code",
   "execution_count": null,
   "metadata": {},
   "outputs": [],
   "source": [
    "donnees = (\n",
    "    {\"psd\" : \"toto\", \"val\" : 1000},\n",
    "    {\"psd\" : \"tata\", \"val\" : 750},\n",
    "    {\"psd\" : \"titi\", \"val\" : 500}\n",
    ")\n",
    "#Exécutions multiples\n",
    "curseur.executemany(\"INSERT INTO scores (pseudo, valeur) VALUES (:psd, :val)\", donnees)\n",
    "connexion.commit()  #Ne pas oublier de valider les modifications"
   ]
  },
  {
   "cell_type": "markdown",
   "metadata": {},
   "source": [
    "## Execute script"
   ]
  },
  {
   "cell_type": "code",
   "execution_count": 70,
   "metadata": {},
   "outputs": [],
   "source": [
    "#Exécution d'un script\n",
    "curseur.executescript(\"\"\"\n",
    "\n",
    "    DROP TABLE IF EXISTS scores;\n",
    "\n",
    "    CREATE TABLE IF NOT EXISTS scores(\n",
    "    id INTEGER PRIMARY KEY AUTOINCREMENT UNIQUE,\n",
    "    pseudo TEXT,\n",
    "    valeur INTEGER);\n",
    "    \n",
    "    INSERT INTO scores(pseudo, valeur) VALUES (\"toto\", 1000);\n",
    "    INSERT INTO scores(pseudo, valeur) VALUES (\"tata\", 750);\n",
    "    INSERT INTO scores(pseudo, valeur) VALUES (\"titi\", 500)\n",
    "\"\"\")\n",
    "connexion.commit()  #Ne pas oublier de valider les modifications\n",
    "connexion.close()"
   ]
  },
  {
   "cell_type": "markdown",
   "metadata": {},
   "source": [
    "## Autre exemple"
   ]
  },
  {
   "cell_type": "code",
   "execution_count": 71,
   "metadata": {},
   "outputs": [],
   "source": [
    "import sqlite3\n",
    "\n",
    "#Connexion\n",
    "connexion = sqlite3.connect('basededonnees.db')\n",
    "\n",
    "#Récupération d'un curseur\n",
    "curseur = connexion.cursor()\n",
    "\n",
    "#Création de la table scores\n",
    "curseur.execute(\"\"\"\n",
    "    CREATE TABLE IF NOT EXISTS scores2(\n",
    "    id INTEGER PRIMARY KEY AUTOINCREMENT UNIQUE,\n",
    "    pseudo TEXT,\n",
    "    valeur INTEGER);\n",
    "    \"\"\")\n",
    "\n",
    "#Suppression des éléments de scores\n",
    "curseur.execute(\"\"\"DELETE FROM scores2\"\"\")\n",
    "\n",
    "#Préparation des données à ajouter\n",
    "donnees = [\n",
    "    (\"toto\", 1000),\n",
    "    (\"tata\", 750),\n",
    "    (\"titi\", 500),\n",
    "    (\"toto\", 250),\n",
    "    (\"tata\", 150),\n",
    "    (\"tete\", 0)\n",
    "    ]\n",
    "\n",
    "#Insertion des données\n",
    "curseur.executemany('''INSERT INTO scores2 (pseudo, valeur) VALUES (?, ?)''', donnees)\n",
    "\n",
    "#Validation\n",
    "connexion.commit()\n",
    "\n",
    "#Parcours des enregistrements....\n",
    "\n",
    "#Déconnexion\n",
    "#connexion.close()"
   ]
  },
  {
   "cell_type": "markdown",
   "metadata": {},
   "source": [
    "<h3>Recuperation des donnees par SELECT *"
   ]
  },
  {
   "cell_type": "code",
   "execution_count": 72,
   "metadata": {},
   "outputs": [
    {
     "name": "stdout",
     "output_type": "stream",
     "text": [
      "(500,)\n"
     ]
    }
   ],
   "source": [
    "donnee = (\"titi\", )\n",
    "curseur.execute(\"SELECT valeur FROM scores2 WHERE pseudo = ?\", donnee)\n",
    "print(curseur.fetchone())  #affiche \"(500,)\"\n"
   ]
  },
  {
   "cell_type": "code",
   "execution_count": 73,
   "metadata": {},
   "outputs": [
    {
     "name": "stdout",
     "output_type": "stream",
     "text": [
      "(750,)\n",
      "(150,)\n"
     ]
    }
   ],
   "source": [
    "donnee = (\"tata\", )\n",
    "curseur.execute(\"SELECT valeur FROM scores2 WHERE pseudo = ?\", donnee)\n",
    "result = curseur.fetchone()\n",
    "while result:\n",
    "    print(result)\n",
    "    result = curseur.fetchone()\n",
    "#affiche \"(750,)\" puis \"(150,)\""
   ]
  },
  {
   "cell_type": "code",
   "execution_count": 74,
   "metadata": {},
   "outputs": [
    {
     "name": "stdout",
     "output_type": "stream",
     "text": [
      "1\n",
      "[('toto',)]\n",
      "[('tata',)]\n",
      "[('toto',), ('tata',)]\n"
     ]
    }
   ],
   "source": [
    "print(curseur.arraysize)  #Affiche \"1\"\n",
    "donnee = (400, )\n",
    "\n",
    "curseur.execute(\"SELECT pseudo FROM scores2 WHERE valeur > ?\", donnee)\n",
    "print(curseur.fetchmany())  #Affiche \"[('toto',)]\"\n",
    "print(curseur.fetchmany())  #Affiche \"[('tata',)]\"\n",
    "\n",
    "curseur.execute(\"SELECT pseudo FROM scores2 WHERE valeur > ?\", donnee)\n",
    "print(curseur.fetchmany(2)) #Affiche \"[('toto',), ('tata',)]\""
   ]
  },
  {
   "cell_type": "code",
   "execution_count": 75,
   "metadata": {},
   "outputs": [
    {
     "name": "stdout",
     "output_type": "stream",
     "text": [
      "(7, 'toto', 1000)\n",
      "(8, 'tata', 750)\n",
      "(9, 'titi', 500)\n",
      "(10, 'toto', 250)\n",
      "(11, 'tata', 150)\n",
      "(12, 'tete', 0)\n"
     ]
    }
   ],
   "source": [
    "curseur.execute(\"SELECT * FROM scores2\")\n",
    "resultats = curseur.fetchall()\n",
    "for resultat in resultats:\n",
    "    print(resultat)"
   ]
  },
  {
   "cell_type": "code",
   "execution_count": 76,
   "metadata": {},
   "outputs": [
    {
     "name": "stdout",
     "output_type": "stream",
     "text": [
      "(7, 'toto', 1000)\n",
      "(8, 'tata', 750)\n",
      "(9, 'titi', 500)\n",
      "(10, 'toto', 250)\n",
      "(11, 'tata', 150)\n",
      "(12, 'tete', 0)\n"
     ]
    }
   ],
   "source": [
    "curseur.execute(\"SELECT * FROM scores2\")\n",
    "for resultat in curseur:\n",
    "    print(resultat)"
   ]
  },
  {
   "cell_type": "markdown",
   "metadata": {},
   "source": [
    "Tout d’abord, pour savoir si des modifications ont été apportées sans être validées, il suffit de récupérer la valeur de l’attribut in_transaction de notre objet de type Connection. En effet, celui-ci vaut True si c’est le cas et False sinon."
   ]
  },
  {
   "cell_type": "code",
   "execution_count": 77,
   "metadata": {},
   "outputs": [
    {
     "name": "stdout",
     "output_type": "stream",
     "text": [
      "False\n",
      "False\n"
     ]
    }
   ],
   "source": [
    "#modifications...\n",
    "print(connexion.in_transaction)  #Affiche \"True\"\n",
    "connexion.commit()\n",
    "print(connexion.in_transaction)  #Affiche \"False\""
   ]
  },
  {
   "cell_type": "markdown",
   "metadata": {},
   "source": [
    "Connaitre le nombre de lignes impactées par une exécution\n",
    "De même, pour connaître le nombre de lignes impactées par une exécution, il suffit d’utiliser l’attribut rowcount de notre objet de type Cursor. S’il n’y a eu aucune exécution ou que le nombre de de lignes ne peut pas être déterminé (comme pour une sélection par exemple), il vaut -1. De plus, pour les versions de SQLite antérieure à la 3.6.5, la valeur vaut 0 après une suppression totale des éléments d’une table.\n",
    "\n",
    "Voici un exemple :"
   ]
  },
  {
   "cell_type": "code",
   "execution_count": 78,
   "metadata": {},
   "outputs": [
    {
     "name": "stdout",
     "output_type": "stream",
     "text": [
      "-1\n",
      "1\n",
      "2\n",
      "-1\n",
      "9\n"
     ]
    }
   ],
   "source": [
    "print(curseur.rowcount)  #Affiche \"-1\"\n",
    "\n",
    "donnee = (\"toto\", 1000)\n",
    "curseur.execute(\"INSERT INTO scores2 (pseudo, valeur) VALUES (?, ?)\", donnee)\n",
    "print(curseur.rowcount)  #Affiche \"1\"\n",
    "\n",
    "donnees = [(\"tata\", 750), (\"titi\", 500)]\n",
    "curseur.executemany(\"INSERT INTO scores2 (pseudo, valeur) VALUES (?, ?)\", donnees)\n",
    "print(curseur.rowcount)  #Affiche \"2\"\n",
    "\n",
    "curseur.execute(\"SELECT * FROM scores2\")\n",
    "print(curseur.rowcount)  #Affiche \"-1\"\n",
    "\n",
    "curseur.execute(\"DELETE FROM scores2\")\n",
    "print(curseur.rowcount)  #Affiche \"-3\" (0 si version SQLite < 3.6.5)"
   ]
  },
  {
   "cell_type": "markdown",
   "metadata": {},
   "source": [
    "Récupérer l’identifiant de la dernière ligne insérée\n",
    "Par ailleurs, nous pouvons aussi récupérer l’identifiant du dernier enregistrement dans une table à l’aide de l’attribut lastrowid de notre objet de type Connection :"
   ]
  },
  {
   "cell_type": "code",
   "execution_count": 79,
   "metadata": {},
   "outputs": [
    {
     "name": "stdout",
     "output_type": "stream",
     "text": [
      "409\n",
      "(409, 'toto', 1000)\n"
     ]
    }
   ],
   "source": [
    "from random import randint\n",
    "\n",
    "#...\n",
    "\n",
    "donnee = (randint(1, 1000), \"toto\", 1000)\n",
    "print(donnee[0])  #Affiche \"589\"\n",
    "curseur.execute(\"INSERT INTO scores2 (id, pseudo, valeur) VALUES (?, ?, ?)\", donnee)\n",
    "curseur.execute(\"SELECT * FROM scores2 WHERE id = ?\", (curseur.lastrowid, ))\n",
    "print(curseur.fetchone())  #Affiche \"(589, 'toto', 1000)\"\n",
    "connexion.close()"
   ]
  },
  {
   "cell_type": "markdown",
   "metadata": {},
   "source": [
    "# Utiliser des clefs étrangères"
   ]
  },
  {
   "cell_type": "code",
   "execution_count": 80,
   "metadata": {},
   "outputs": [
    {
     "name": "stdout",
     "output_type": "stream",
     "text": [
      "joueur : (1, 'toto', '123')\n",
      "joueur : (2, 'tata', 'azerty')\n",
      "joueur : (3, 'titi', 'qwerty')\n",
      "score : (1, 'toto', 1000)\n",
      "score : (2, 'tata', 750)\n",
      "score : (3, 'titi', 500)\n"
     ]
    }
   ],
   "source": [
    "import sqlite3\n",
    "\n",
    "#Connexion\n",
    "connexion = sqlite3.connect(\"basededonnees.db\") \n",
    "\n",
    "#Récupération d'un curseur\n",
    "curseur = connexion.cursor()\n",
    "\n",
    "#Activation clés étrangères\n",
    "curseur.execute(\"PRAGMA foreign_keys = ON\") \n",
    "\n",
    "#Création table joueur puis score si elles n'existent pas encore\n",
    "#Puis suppression des données dans joueurs (et dans scores aussi par cascade)\n",
    "#afin d'éviter les répétitions d'enregistrements avec des exécutions multiples\n",
    "curseur.executescript(\"\"\"\n",
    "\n",
    "    CREATE TABLE IF NOT EXISTS joueurs(\n",
    "    id_joueur INTEGER PRIMARY KEY,\n",
    "    pseudo TEXT,\n",
    "    mdp TEXT);\n",
    "\n",
    "    CREATE TABLE IF NOT EXISTS scores3(\n",
    "    id_score INTEGER PRIMARY KEY,\n",
    "    fk_joueur INTEGER NOT NULL,\n",
    "    valeur INTEGER,\n",
    "    FOREIGN KEY(fk_joueur) REFERENCES joueurs(id_joueur)\n",
    "    ON DELETE CASCADE);\n",
    "\n",
    "    DELETE FROM joueurs;\n",
    "\"\"\")\n",
    "\n",
    "#Préparation des données\n",
    "donnees_joueur = [\n",
    "    (\"toto\", \"123\"),\n",
    "    (\"tata\", \"azerty\"),\n",
    "    (\"titi\", \"qwerty\")\n",
    "]\n",
    "donnees_score = [\n",
    "    (1, 1000),\n",
    "    (2, 750),\n",
    "    (3, 500)\n",
    "]\n",
    "\n",
    "#Insertion des données dans table joueur puis score\n",
    "curseur.executemany(\"INSERT INTO joueurs (pseudo, mdp) VALUES (?, ?)\", donnees_joueur)\n",
    "curseur.executemany(\"INSERT INTO scores3 (fk_joueur, valeur) VALUES (?, ?)\", donnees_score)\n",
    "\n",
    "#Validation des ajouts\n",
    "connexion.commit()\n",
    "\n",
    "#Affichage des données\n",
    "for joueur in curseur.execute(\"SELECT * FROM joueurs\"):\n",
    "    print(\"joueur :\", joueur)\n",
    "\n",
    "for score in curseur.execute(\"SELECT * FROM scores\"):\n",
    "    print(\"score :\", score)\n"
   ]
  },
  {
   "cell_type": "code",
   "execution_count": 81,
   "metadata": {},
   "outputs": [
    {
     "name": "stdout",
     "output_type": "stream",
     "text": [
      "('toto', 1000)\n"
     ]
    }
   ],
   "source": [
    "#Récupération du meilleur score\n",
    "curseur.execute(\"\"\"SELECT j.pseudo, s.valeur FROM joueurs as j INNER JOIN\n",
    "    scores3 as s ON j.id_joueur = s.fk_joueur\n",
    "    ORDER BY s.valeur DESC LIMIT 1\"\"\")\n",
    "print(curseur.fetchone())  #Affiche \"('toto', 1000)\""
   ]
  },
  {
   "cell_type": "code",
   "execution_count": 82,
   "metadata": {},
   "outputs": [],
   "source": [
    "connexion.close()"
   ]
  },
  {
   "cell_type": "code",
   "execution_count": null,
   "metadata": {},
   "outputs": [],
   "source": [
    "e"
   ]
  }
 ],
 "metadata": {
  "kernelspec": {
   "display_name": "Python 3",
   "language": "python",
   "name": "python3"
  },
  "language_info": {
   "codemirror_mode": {
    "name": "ipython",
    "version": 3
   },
   "file_extension": ".py",
   "mimetype": "text/x-python",
   "name": "python",
   "nbconvert_exporter": "python",
   "pygments_lexer": "ipython3",
   "version": "3.7.4"
  }
 },
 "nbformat": 4,
 "nbformat_minor": 4
}
