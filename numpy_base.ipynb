{
 "cells": [
  {
   "cell_type": "code",
   "execution_count": 1,
   "metadata": {},
   "outputs": [],
   "source": [
    "import numpy as np"
   ]
  },
  {
   "cell_type": "markdown",
   "metadata": {},
   "source": [
    "<h3>Creation np.zeros et np.ones"
   ]
  },
  {
   "cell_type": "code",
   "execution_count": 6,
   "metadata": {},
   "outputs": [
    {
     "name": "stdout",
     "output_type": "stream",
     "text": [
      "[0. 0. 0. 0. 0.]\n",
      "\n",
      "[[0. 0. 0.]\n",
      " [0. 0. 0.]]\n",
      "[1. 1. 1. 1. 1. 1.]\n"
     ]
    }
   ],
   "source": [
    "a= np.zeros(5)\n",
    "b= np.zeros((2,3))\n",
    "c= np.ones(6)\n",
    "print (a)\n",
    "print()\n",
    "print (b)\n",
    "print(c)"
   ]
  },
  {
   "cell_type": "markdown",
   "metadata": {},
   "source": [
    "<h3> Creation range"
   ]
  },
  {
   "cell_type": "code",
   "execution_count": 5,
   "metadata": {},
   "outputs": [
    {
     "name": "stdout",
     "output_type": "stream",
     "text": [
      "[10 12 14 16 18]\n"
     ]
    }
   ],
   "source": [
    "range = np.arange(10, 20, 2)\n",
    "print(range)"
   ]
  },
  {
   "cell_type": "markdown",
   "metadata": {},
   "source": [
    "<h3>Creation random"
   ]
  },
  {
   "cell_type": "code",
   "execution_count": 20,
   "metadata": {},
   "outputs": [
    {
     "name": "stdout",
     "output_type": "stream",
     "text": [
      "a:\n",
      " [0.5884651  0.6596684  0.5332062  0.23053302 0.3948693 ]\n",
      "b:\n",
      " [6.1880856 4.7486753 4.701322  7.160745  2.8799102 3.8346221]\n",
      "c: \n",
      " [[2 3 1 4 6 2 2 5]\n",
      " [1 6 1 4 3 4 3 5]]\n"
     ]
    }
   ],
   "source": [
    "#5 valeurs entre 0 et 1\n",
    "a=np.float32(np.random.random(5))\n",
    "print('a:\\n',a)\n",
    "# 6 valeurs entre 0 et 10\n",
    "b=np.float32(np.random.random(6))*10\n",
    "print('b:\\n',b)\n",
    "\n",
    "c=np.random.randint(1,7,size=(2,8))\n",
    "print('c: \\n',c)\n",
    "\n",
    "\n"
   ]
  },
  {
   "cell_type": "markdown",
   "metadata": {},
   "source": [
    "<h3>Blocage du random"
   ]
  },
  {
   "cell_type": "code",
   "execution_count": 12,
   "metadata": {},
   "outputs": [
    {
     "name": "stdout",
     "output_type": "stream",
     "text": [
      "[ 6  1  4  4  8 10  4  6  3  5]\n"
     ]
    }
   ],
   "source": [
    "np.random.seed(0)\n",
    "c=np.random.randint(1,11,size=10) # 11 n'est pas inclus\n",
    "print(c)\n",
    "# tableau aleatoire de 1 et 0 probabilité 0.25 0.75\n",
    "N=256\n",
    "lattice=np.int32(np.random.choice([1,0],N*N,p=[0.25,0.75]).reshpae(N,N))"
   ]
  },
  {
   "cell_type": "markdown",
   "metadata": {},
   "source": [
    "<h3>Assignation type pour gpuarrays"
   ]
  },
  {
   "cell_type": "code",
   "execution_count": null,
   "metadata": {},
   "outputs": [],
   "source": [
    "pointsx0 = np.array([ 0,  -5.8244,  -5.8375,  -5.8508,  -5.8639 ],dtype   = 'float32')\n",
    "xa=np.float32(0.)\n",
    "test_a = np.float32([range(1,5)] * 4)\n",
    "test_b = np.float32([range(14,10, -1)]*4 )"
   ]
  }
 ],
 "metadata": {
  "kernelspec": {
   "display_name": "Python 3",
   "language": "python",
   "name": "python3"
  },
  "language_info": {
   "codemirror_mode": {
    "name": "ipython",
    "version": 3
   },
   "file_extension": ".py",
   "mimetype": "text/x-python",
   "name": "python",
   "nbconvert_exporter": "python",
   "pygments_lexer": "ipython3",
   "version": "3.7.6"
  }
 },
 "nbformat": 4,
 "nbformat_minor": 4
}
