{
 "cells": [
  {
   "cell_type": "markdown",
   "metadata": {},
   "source": [
    "<h1> Exemples Numpy"
   ]
  },
  {
   "cell_type": "code",
   "execution_count": 1,
   "metadata": {},
   "outputs": [],
   "source": [
    "import numpy as np\n",
    "import time"
   ]
  },
  {
   "cell_type": "markdown",
   "metadata": {},
   "source": [
    "<h3>Tri stable de numpy sur une colonne"
   ]
  },
  {
   "cell_type": "code",
   "execution_count": 2,
   "metadata": {},
   "outputs": [
    {
     "name": "stdout",
     "output_type": "stream",
     "text": [
      "[[  2.12  43.3    0.     0.     1.   150.   358.  ]\n",
      " [  4.13  43.1    1.     0.     2.   152.   359.  ]\n",
      " [  3.14  43.25   1.     0.     3.   152.   358.  ]\n",
      " [  2.25  42.75   1.     3.     4.   152.   357.  ]\n",
      " [  2.37  43.25   2.     5.     5.   153.   359.  ]\n",
      " [  2.75  43.35   2.     3.     6.   156.   356.  ]\n",
      " [  2.85  43.55   2.     3.     7.   156.   356.  ]\n",
      " [  2.95  42.35   3.     3.     8.   156.   356.  ]\n",
      " [  3.15  44.35   3.     7.     9.   156.   356.  ]]\n"
     ]
    }
   ],
   "source": [
    "a=np.array([[2.12,43.3,0,0,1,150.,358],[4.13,43.1,1,0,2,152,359],[3.14,43.25,1,0,3,152,358],\n",
    "            [2.25,42.75,1,3,4,152,357],[2.37,43.25,2,5,5,153,359],[2.75,43.35,2,3,6,156,356],\n",
    "            [2.85,43.55,2,3,7,156,356],[2.95,42.35,3,3,8,156,356],[3.15,44.35,3,7,9,156,356]])\n",
    "print(a)"
   ]
  },
  {
   "cell_type": "code",
   "execution_count": 3,
   "metadata": {},
   "outputs": [
    {
     "name": "stdout",
     "output_type": "stream",
     "text": [
      "[[  2  45   0   0   3 120 355]]\n",
      "[[ 12  25   0   0   3 120 355]]\n"
     ]
    }
   ],
   "source": [
    "b= np.array([[2,45,0,0,3,120,355]])\n",
    "print(b)\n",
    "b[0]=[  12 , 25  , 0  , 0   ,3 ,120 ,355]\n",
    "print(b)"
   ]
  },
  {
   "cell_type": "code",
   "execution_count": 4,
   "metadata": {},
   "outputs": [
    {
     "name": "stdout",
     "output_type": "stream",
     "text": [
      "[[ 2.12 43.3 ]\n",
      " [ 4.13 43.1 ]\n",
      " [ 3.14 43.25]\n",
      " [ 2.25 42.75]\n",
      " [ 2.37 43.25]\n",
      " [ 2.75 43.35]\n",
      " [ 2.85 43.55]\n",
      " [ 2.95 42.35]\n",
      " [ 3.15 44.35]]\n",
      "[[0.]\n",
      " [1.]\n",
      " [1.]\n",
      " [1.]\n",
      " [2.]\n",
      " [2.]\n",
      " [2.]\n",
      " [3.]\n",
      " [3.]]\n"
     ]
    }
   ],
   "source": [
    "b=a[:,0:2]\n",
    "print(b)\n",
    "TWS=a[:,2:3]\n",
    "print(TWS)\n"
   ]
  },
  {
   "cell_type": "code",
   "execution_count": 5,
   "metadata": {},
   "outputs": [
    {
     "name": "stdout",
     "output_type": "stream",
     "text": [
      "[0. 0. 0. 3. 5. 3. 3. 3. 7.]\n",
      "{1.0: 0.0, 2.0: 0.0, 3.0: 0.0, 4.0: 3.0, 5.0: 5.0, 6.0: 3.0, 7.0: 3.0, 8.0: 3.0, 9.0: 7.0}\n"
     ]
    }
   ],
   "source": [
    "# fabrication d'un dictionnaire\n",
    "print(a[:,3])\n",
    "dico = dict(zip(a[:,4],a[:,3]))\n",
    "print(dico)"
   ]
  },
  {
   "cell_type": "code",
   "execution_count": 6,
   "metadata": {},
   "outputs": [
    {
     "name": "stdout",
     "output_type": "stream",
     "text": [
      "[0, 3, 7, 9]\n"
     ]
    }
   ],
   "source": [
    "# remontee du dictionnaire \n",
    "n=3     #n = nombre des isochrones\n",
    "nb=9\n",
    "route=[nb]\n",
    "for i in range (n) :      \n",
    "    nb=int(dico[nb])\n",
    "    route.append(nb)\n",
    "route.reverse()\n",
    "print(route)\n",
    "    \n"
   ]
  },
  {
   "cell_type": "code",
   "execution_count": 7,
   "metadata": {},
   "outputs": [
    {
     "name": "stdout",
     "output_type": "stream",
     "text": [
      "[[  2.12  43.3    0.     0.     1.   150.   358.  ]\n",
      " [  4.13  43.1    1.     0.     2.   152.   359.  ]\n",
      " [  3.14  43.25   1.     0.     3.   152.   358.  ]\n",
      " [  2.25  42.75   1.     3.     4.   152.   357.  ]\n",
      " [  2.37  43.25   2.     5.     5.   153.   359.  ]\n",
      " [  2.75  43.35   2.     3.     6.   156.   356.  ]\n",
      " [  2.85  43.55   2.     3.     7.   156.   356.  ]\n",
      " [  2.95  42.35   3.     3.     8.   156.   356.  ]\n",
      " [  3.15  44.35   3.     7.     9.   156.   356.  ]]\n"
     ]
    }
   ],
   "source": [
    "# tri stable sur 5eme colonne\n",
    "a = a[a[:,4].argsort(kind='mergesort')]\n",
    "print (a)"
   ]
  },
  {
   "cell_type": "code",
   "execution_count": 8,
   "metadata": {},
   "outputs": [
    {
     "name": "stdout",
     "output_type": "stream",
     "text": [
      "[[  2.12  43.3    0.     0.     1.   150.   358.  ]\n",
      " [  4.13  43.1    1.     0.     2.   152.   359.  ]\n",
      " [  3.14  43.25   1.     0.     3.   152.   358.  ]\n",
      " [  2.25  42.75   1.     3.     4.   152.   357.  ]\n",
      " [  2.37  43.25   2.     5.     5.   153.   359.  ]\n",
      " [  2.75  43.35   2.     3.     6.   156.   356.  ]\n",
      " [  2.85  43.55   2.     3.     7.   156.   356.  ]\n",
      " [  2.95  42.35   3.     3.     8.   156.   356.  ]\n",
      " [  3.15  44.35   3.     7.     9.   156.   356.  ]]\n",
      "9\n"
     ]
    }
   ],
   "source": [
    "# Puis sur la 4eme (l'ordre est conservé sur la dernière qui avait déjà été triée)\n",
    "a = a[a[:,5].argsort(kind='mergesort')]\n",
    "print (a)\n",
    "print(a.shape[0])"
   ]
  },
  {
   "cell_type": "markdown",
   "metadata": {},
   "source": [
    "<h3> Exemple : On veut conserver les distances les plus courtes"
   ]
  },
  {
   "cell_type": "code",
   "execution_count": 9,
   "metadata": {},
   "outputs": [
    {
     "name": "stdout",
     "output_type": "stream",
     "text": [
      "[[  2.12  43.3    0.     0.     1.   150.   358.  ]\n",
      " [  4.13  43.1    1.     0.     2.   152.   359.  ]\n",
      " [  2.37  43.25   2.     5.     5.   153.   359.  ]\n",
      " [  2.75  43.35   2.     3.     6.   156.   356.  ]]\n"
     ]
    }
   ],
   "source": [
    "for i in range(a.shape[0] - 1, 0, -1):  # ecremage\n",
    "        if (a[i][5]) == (a[i - 1][5]):\n",
    "            a = np.delete(a, i, 0)\n",
    "print(a)"
   ]
  },
  {
   "cell_type": "code",
   "execution_count": 10,
   "metadata": {},
   "outputs": [
    {
     "name": "stdout",
     "output_type": "stream",
     "text": [
      "[150. 152. 153. 156.]\n",
      "[150.  51.  53. 114.]\n"
     ]
    }
   ],
   "source": [
    "def twa(cap, dvent):\n",
    "    twa = 180 - abs(((360 - dvent + cap) % 360) - 180)\n",
    "    return twa\n",
    "print(a[:,5])\n",
    "dvent=np.array([300,101,100,270])\n",
    "TWA=twa(a[:,5],dvent )\n",
    "print (TWA)"
   ]
  },
  {
   "cell_type": "markdown",
   "metadata": {},
   "source": [
    "<h3>Renumerotation des points sur la colonne 3"
   ]
  },
  {
   "cell_type": "code",
   "execution_count": 11,
   "metadata": {},
   "outputs": [
    {
     "name": "stdout",
     "output_type": "stream",
     "text": [
      "4\n",
      "[3 4 5 6]\n",
      "[[  2.12  43.3    0.     3.     1.   150.   358.  ]\n",
      " [  4.13  43.1    1.     4.     2.   152.   359.  ]\n",
      " [  2.37  43.25   2.     5.     5.   153.   359.  ]\n",
      " [  2.75  43.35   2.     6.     6.   156.   356.  ]]\n"
     ]
    }
   ],
   "source": [
    "nbpoints= a.shape[0]\n",
    "print (nbpoints)\n",
    "# on renumerote a partir de 3 \n",
    "N=np.array(range(3,a.shape[0]+3,1))\n",
    "print (N)\n",
    "a[:,3]=N\n",
    "print(a)"
   ]
  },
  {
   "cell_type": "code",
   "execution_count": 12,
   "metadata": {},
   "outputs": [
    {
     "name": "stdout",
     "output_type": "stream",
     "text": [
      "[[  2.12  43.3    0.     3.     1.   150.   358.  ]\n",
      " [  4.13  43.1    1.     4.     2.   152.   359.  ]\n",
      " [  2.37  43.25   2.     5.     5.   153.   359.  ]\n",
      " [  2.75  43.35   2.     6.     6.   156.   356.  ]]\n",
      "\n",
      "[[ 4.13 43.1 ]\n",
      " [ 2.37 43.25]\n",
      " [ 2.75 43.35]]\n"
     ]
    }
   ],
   "source": [
    "# obtention des deux dereniers points\n",
    "print(a)\n",
    "print()\n",
    "print(a[-3:,0:2])"
   ]
  },
  {
   "cell_type": "markdown",
   "metadata": {},
   "source": [
    "<h3> Extraction des xy pour un trace d'isochrone"
   ]
  },
  {
   "cell_type": "code",
   "execution_count": 13,
   "metadata": {},
   "outputs": [
    {
     "name": "stdout",
     "output_type": "stream",
     "text": [
      "[[-43.3   43.3 ]\n",
      " [-43.1   43.1 ]\n",
      " [-43.25  43.25]\n",
      " [-43.35  43.35]]\n"
     ]
    },
    {
     "ename": "ValueError",
     "evalue": "all the input array dimensions for the concatenation axis must match exactly, but along dimension 0, the array at index 0 has size 4 and the array at index 1 has size 9",
     "output_type": "error",
     "traceback": [
      "\u001b[0;31m---------------------------------------------------------------------------\u001b[0m",
      "\u001b[0;31mValueError\u001b[0m                                Traceback (most recent call last)",
      "\u001b[0;32m<ipython-input-13-f67c4558764a>\u001b[0m in \u001b[0;36m<module>\u001b[0;34m\u001b[0m\n\u001b[1;32m     16\u001b[0m  246.5296352,  246.27327227, 247.60624382, 247.30197041,])\n\u001b[1;32m     17\u001b[0m \u001b[0mTWD2\u001b[0m\u001b[0;34m=\u001b[0m\u001b[0mTWD\u001b[0m\u001b[0;34m.\u001b[0m\u001b[0mreshape\u001b[0m\u001b[0;34m(\u001b[0m\u001b[0;34m-\u001b[0m\u001b[0;36m1\u001b[0m\u001b[0;34m,\u001b[0m\u001b[0;36m1\u001b[0m\u001b[0;34m)\u001b[0m\u001b[0;34m\u001b[0m\u001b[0;34m\u001b[0m\u001b[0m\n\u001b[0;32m---> 18\u001b[0;31m \u001b[0mtab\u001b[0m\u001b[0;34m=\u001b[0m \u001b[0mnp\u001b[0m\u001b[0;34m.\u001b[0m\u001b[0mconcatenate\u001b[0m\u001b[0;34m(\u001b[0m\u001b[0;34m(\u001b[0m\u001b[0mpoints\u001b[0m\u001b[0;34m,\u001b[0m\u001b[0mTWD\u001b[0m\u001b[0;34m.\u001b[0m\u001b[0mreshape\u001b[0m\u001b[0;34m(\u001b[0m\u001b[0;34m-\u001b[0m\u001b[0;36m1\u001b[0m\u001b[0;34m,\u001b[0m\u001b[0;36m1\u001b[0m\u001b[0;34m)\u001b[0m\u001b[0;34m)\u001b[0m\u001b[0;34m,\u001b[0m\u001b[0maxis\u001b[0m\u001b[0;34m=\u001b[0m\u001b[0;36m1\u001b[0m\u001b[0;34m)\u001b[0m\u001b[0;34m\u001b[0m\u001b[0;34m\u001b[0m\u001b[0m\n\u001b[0m\u001b[1;32m     19\u001b[0m \u001b[0mprint\u001b[0m\u001b[0;34m(\u001b[0m\u001b[0mtab\u001b[0m\u001b[0;34m)\u001b[0m\u001b[0;34m\u001b[0m\u001b[0;34m\u001b[0m\u001b[0m\n",
      "\u001b[0;32m<__array_function__ internals>\u001b[0m in \u001b[0;36mconcatenate\u001b[0;34m(*args, **kwargs)\u001b[0m\n",
      "\u001b[0;31mValueError\u001b[0m: all the input array dimensions for the concatenation axis must match exactly, but along dimension 0, the array at index 0 has size 4 and the array at index 1 has size 9"
     ]
    }
   ],
   "source": [
    "# premiere et deuxieme colonne\n",
    "tic= time.time()\n",
    "X=a[:,0].reshape(-1,1)\n",
    "Y=a[:,1].reshape(-1,1)\n",
    "for i in range (100):\n",
    "   \n",
    "    points=np.concatenate((-a[:,1].reshape(-1,1),a[:,1].reshape(-1,1)),axis=1)\n",
    "\n",
    "print (points)\n",
    "tac=time.time()\n",
    "#print ((tic-tac))\n",
    "#permutation et changement de signe \n",
    "#on inverse l'ordre des colonnes\n",
    "#print(np.fliplr(b))\n",
    "TWD= np.array( [248.04021058, 247.60624382, 247.30197041, 247.04196064, 246.78548283,\n",
    " 246.5296352,  246.27327227, 247.60624382, 247.30197041,])\n",
    "TWD2=TWD.reshape(-1,1)\n",
    "tab= np.concatenate((points,TWD.reshape(-1,1)),axis=1)\n",
    "print(tab)"
   ]
  },
  {
   "cell_type": "markdown",
   "metadata": {},
   "source": [
    "<h3>Formation d'un dictionnaire de correspondances points / points mere par slicing"
   ]
  },
  {
   "cell_type": "code",
   "execution_count": 14,
   "metadata": {},
   "outputs": [
    {
     "name": "stdout",
     "output_type": "stream",
     "text": [
      "[[0. 3.]\n",
      " [1. 4.]\n",
      " [2. 5.]\n",
      " [2. 6.]]\n"
     ]
    }
   ],
   "source": [
    "# slice des colonnes 2 et 3\n",
    "dico=a[:,2:4]\n",
    "print(dico)"
   ]
  },
  {
   "cell_type": "markdown",
   "metadata": {},
   "source": [
    "<h3> Remontee des numeros de points"
   ]
  },
  {
   "cell_type": "code",
   "execution_count": 15,
   "metadata": {},
   "outputs": [
    {
     "name": "stdout",
     "output_type": "stream",
     "text": [
      "[[ 1  3]\n",
      " [ 3  8]\n",
      " [ 3  9]\n",
      " [ 3 10]\n",
      " [ 8 11]\n",
      " [ 8 12]\n",
      " [ 9 13]\n",
      " [11 14]\n",
      " [11 15]\n",
      " [12 16]\n",
      " [12 17]\n",
      " [16 18]]\n",
      "[ 1  3  3  3  8  8  9 11 11 12 12 16]\n",
      "[ 3  8  9 10 11 12 13 14 15 16 17 18]\n"
     ]
    }
   ],
   "source": [
    "dico=np.array([[1,3],[3,8],[3,9],[3,10],[8,11],[8,12],[9,13],[11,14],[11,15],[12,16],[12,17],[16,18]])\n",
    "print(dico)\n",
    "ptm=dico[:,0]\n",
    "print(ptm)\n",
    "pt=dico[:,1]\n",
    "print (pt)\n"
   ]
  },
  {
   "cell_type": "code",
   "execution_count": 16,
   "metadata": {},
   "outputs": [
    {
     "name": "stdout",
     "output_type": "stream",
     "text": [
      "{3: 1, 8: 3, 9: 3, 10: 3, 11: 8, 12: 8, 13: 9, 14: 11, 15: 11, 16: 12, 17: 12, 18: 16}\n"
     ]
    }
   ],
   "source": [
    "d = dict(zip(pt,ptm))\n",
    "print (d)\n",
    "nf=18\n"
   ]
  },
  {
   "cell_type": "markdown",
   "metadata": {},
   "source": [
    "<h3> Maximum sur une colonne"
   ]
  },
  {
   "cell_type": "code",
   "execution_count": 17,
   "metadata": {},
   "outputs": [
    {
     "name": "stdout",
     "output_type": "stream",
     "text": [
      "[1 3 2 3 3 3 1]\n",
      "Valeur maximum sur colonne 5\n",
      "156.0\n"
     ]
    }
   ],
   "source": [
    "#ligne des maximums\n",
    "print(np.argmax(a,axis=0))\n",
    "#d'ou valeur max sur la 4eme colonne (axis =0)\n",
    "print ('Valeur maximum sur colonne 5')\n",
    "print (a[np.argmax(a,0)[5],5])\n"
   ]
  },
  {
   "cell_type": "code",
   "execution_count": 18,
   "metadata": {},
   "outputs": [
    {
     "name": "stdout",
     "output_type": "stream",
     "text": [
      "[10 15 12 13 11 18 15 17]\n",
      "0\n",
      "10\n"
     ]
    }
   ],
   "source": [
    "T_a =np.array([10,15,12,13,11,18,15,17])\n",
    "print(T_a)\n",
    "print(np.argmin(T_a,0))   # 0 pour axis=0\n",
    "print(T_a[np.argmin(T_a,0)])"
   ]
  },
  {
   "cell_type": "markdown",
   "metadata": {},
   "source": [
    "<h3>Decomposition complexes en coordonnees"
   ]
  },
  {
   "cell_type": "code",
   "execution_count": 19,
   "metadata": {},
   "outputs": [
    {
     "name": "stdout",
     "output_type": "stream",
     "text": [
      "[2.+5.j 3.+4.j 7.+8.j]\n"
     ]
    }
   ],
   "source": [
    "a=np.array([2+5*1j,3+4*1j,7+8*1j])\n",
    "print(a)\n"
   ]
  },
  {
   "cell_type": "code",
   "execution_count": 20,
   "metadata": {},
   "outputs": [
    {
     "name": "stdout",
     "output_type": "stream",
     "text": [
      "[[-5.  2.]\n",
      " [-4.  3.]\n",
      " [-8.  7.]]\n",
      "[[-5.0, 2.0], [-4.0, 3.0], [-8.0, 7.0]]\n"
     ]
    }
   ],
   "source": [
    "X=a.real.reshape(-1,1)\n",
    "Y=a.imag.reshape(-1,1)\n",
    "points=np.concatenate((-Y,X),axis=1)\n",
    "print(points)\n",
    "print(points.tolist())"
   ]
  },
  {
   "cell_type": "code",
   "execution_count": 21,
   "metadata": {},
   "outputs": [
    {
     "name": "stdout",
     "output_type": "stream",
     "text": [
      "[[-5.0, 2.0], [-4.0, 3.0], [-8.0, 7.0]]\n"
     ]
    }
   ],
   "source": [
    "# en une operation avec latitudes en premier \n",
    "points=np.concatenate((-a.imag.reshape(-1,1),a.real.reshape(-1,1)),axis=1).tolist()\n",
    "print(points)"
   ]
  },
  {
   "cell_type": "code",
   "execution_count": 22,
   "metadata": {},
   "outputs": [
    {
     "name": "stdout",
     "output_type": "stream",
     "text": [
      "(3,)\n"
     ]
    }
   ],
   "source": [
    "print(np.shape(a))\n"
   ]
  },
  {
   "cell_type": "code",
   "execution_count": 23,
   "metadata": {},
   "outputs": [
    {
     "name": "stdout",
     "output_type": "stream",
     "text": [
      "<class 'numpy.ndarray'>\n",
      "(3, 2)\n"
     ]
    }
   ],
   "source": [
    "X=a.real.reshape(-1,1)\n",
    "Y=a.imag.reshape(-1,1)\n",
    "points=np.concatenate((-Y,X),axis=1)\n",
    "print(type(points))\n",
    "print(np.shape(points))"
   ]
  },
  {
   "cell_type": "code",
   "execution_count": 24,
   "metadata": {},
   "outputs": [
    {
     "name": "stdout",
     "output_type": "stream",
     "text": [
      "[[2.]\n",
      " [3.]\n",
      " [7.]]\n"
     ]
    }
   ],
   "source": [
    "print(X)"
   ]
  },
  {
   "cell_type": "code",
   "execution_count": 25,
   "metadata": {},
   "outputs": [
    {
     "name": "stdout",
     "output_type": "stream",
     "text": [
      "[[10 45]]\n"
     ]
    }
   ],
   "source": [
    "\n",
    "points= np.array([[10,45],[12,44],[13,47]])\n",
    "points= np.array([[10,45]])\n",
    "print (points)"
   ]
  },
  {
   "cell_type": "code",
   "execution_count": 26,
   "metadata": {},
   "outputs": [
    {
     "name": "stdout",
     "output_type": "stream",
     "text": [
      "[10]\n",
      "[45]\n",
      "[10.+45.j]\n"
     ]
    }
   ],
   "source": [
    "# transformation en points complexes\n",
    "\n",
    "X=points[:,0]\n",
    "print (X)\n",
    "Y=points[:,1]\n",
    "print(Y)\n",
    "\n",
    "\n",
    "cplx=points[:,0]+points[:,1]*1j\n",
    "print(cplx)"
   ]
  },
  {
   "cell_type": "code",
   "execution_count": 27,
   "metadata": {},
   "outputs": [
    {
     "name": "stdout",
     "output_type": "stream",
     "text": [
      "[[10. 45.]]\n",
      "1\n"
     ]
    }
   ],
   "source": [
    "#transformation complexe en points x y\n",
    "points=np.concatenate((cplx.real.reshape(-1,1),cplx.imag.reshape(-1,1)),axis=1)\n",
    "print (points)\n",
    "print (points.shape[0])"
   ]
  },
  {
   "cell_type": "code",
   "execution_count": 28,
   "metadata": {},
   "outputs": [
    {
     "name": "stdout",
     "output_type": "stream",
     "text": [
      "[[  2   3   6   3   3 358]\n",
      " [  4   6   7   5   5 359]\n",
      " [  8   2   9   4   1   0]\n",
      " [  2   8   3   3   2   1]\n",
      " [  2   7   3   3   1  10]]\n"
     ]
    }
   ],
   "source": [
    "a=np.array([[2,3,6,3,3,358],[4,6,7,5,5,359],[8,2,9,4,1,0],[2,8,3,3,2,1],[2,7,3,3,1,10]])\n",
    "print(a)"
   ]
  },
  {
   "cell_type": "code",
   "execution_count": 29,
   "metadata": {},
   "outputs": [
    {
     "name": "stdout",
     "output_type": "stream",
     "text": [
      "[[2 3]\n",
      " [4 6]\n",
      " [8 2]\n",
      " [2 8]\n",
      " [2 7]]\n"
     ]
    }
   ],
   "source": [
    "# garder les deux premieres colonnes\n",
    "b= a[:,0:2]\n",
    "print(b)"
   ]
  },
  {
   "cell_type": "code",
   "execution_count": 30,
   "metadata": {},
   "outputs": [
    {
     "name": "stdout",
     "output_type": "stream",
     "text": [
      "[2 4 8 2 2]\n",
      "[3 6 2 8 7]\n"
     ]
    }
   ],
   "source": [
    "#colonne des x\n",
    "x=a.T[0]\n",
    "\n",
    "print(x)\n",
    "y=a.T[1]\n",
    "#y=a[:,1:2]\n",
    "print(y)"
   ]
  },
  {
   "cell_type": "code",
   "execution_count": 31,
   "metadata": {},
   "outputs": [
    {
     "name": "stdout",
     "output_type": "stream",
     "text": [
      "[[2 3]\n",
      " [4 6]\n",
      " [8 2]\n",
      " [2 8]\n",
      " [2 7]]\n"
     ]
    }
   ],
   "source": [
    "# manoeuvre inverse attention il faut changer de nom\n",
    "u=x.reshape((1,-1))\n",
    "\n",
    "v=y.reshape((1, -1))\n",
    "\n",
    "c=np.concatenate((u.T, v.T),axis=1)\n",
    "print (c)"
   ]
  },
  {
   "cell_type": "code",
   "execution_count": 32,
   "metadata": {},
   "outputs": [
    {
     "name": "stdout",
     "output_type": "stream",
     "text": [
      "[[-10.  -2.]\n",
      " [-15.   3.]\n",
      " [ 50.  10.]]\n"
     ]
    }
   ],
   "source": [
    "cplx= np.array([[-10 - 2 * 1j, -15 + 3 * 1j, 50 + 10 * 1j]])\n",
    "points=np.concatenate((cplx.real.reshape(-1,1),cplx.imag.reshape(-1,1)),axis=1)\n",
    "print (points)"
   ]
  },
  {
   "cell_type": "code",
   "execution_count": 33,
   "metadata": {},
   "outputs": [
    {
     "name": "stdout",
     "output_type": "stream",
     "text": [
      "(1, 2)\n"
     ]
    }
   ],
   "source": [
    "points=np.array([[-73.62,-40.46]])\n",
    "print(points.shape)                "
   ]
  },
  {
   "cell_type": "code",
   "execution_count": 34,
   "metadata": {},
   "outputs": [
    {
     "name": "stdout",
     "output_type": "stream",
     "text": [
      "(1, 2)\n"
     ]
    }
   ],
   "source": [
    "points=np.array([[-73.62,-40.46]])\n",
    "A=(-3.8858333333333333-47.652499999999996j)\n",
    "print(points.shape) "
   ]
  },
  {
   "cell_type": "code",
   "execution_count": 35,
   "metadata": {},
   "outputs": [
    {
     "name": "stdout",
     "output_type": "stream",
     "text": [
      "(1, 2)\n",
      "(array([70.1041087]), array([84.11123935]))\n"
     ]
    }
   ],
   "source": [
    "def dist_cap4(points,A):\n",
    "    ''' points est une  liste de points a 2 dimensions , a est un point complexe '''\n",
    "    ''' on retourne un tableau des distances et des caps '''\n",
    "    print(points.shape)\n",
    "    D=points[:,0]+points[:,1]*1j   # on transforme les points en points complexes\n",
    "    C = A - D\n",
    "    return np.abs(C), (450 + np.angle(C, deg=True)) % 360\n",
    "\n",
    "\n",
    "\n",
    "print(dist_cap4(points,A))"
   ]
  },
  {
   "cell_type": "code",
   "execution_count": 36,
   "metadata": {},
   "outputs": [
    {
     "name": "stdout",
     "output_type": "stream",
     "text": [
      "[[ 0.  0.  1.  3. 15.]\n",
      " [ 1.  1.  1.  3. 16.]\n",
      " [ 2.  2.  1.  3. 17.]\n",
      " [ 3.  3.  1.  3. 18.]\n",
      " [ 4.  4.  1.  3. 19.]\n",
      " [ 5.  5.  1.  3. 20.]\n",
      " [ 6.  6.  1.  3. 21.]\n",
      " [ 7.  7.  1.  3. 22.]\n",
      " [ 8.  8.  1.  3. 23.]\n",
      " [ 9.  9.  1.  3. 24.]]\n",
      "1.4170424938201904\n"
     ]
    }
   ],
   "source": [
    "import time\n",
    "X=np.array([0.,1,2,3,4,5,6,7,8,9])\n",
    "Y= np.array(range(10))\n",
    "Z = np.ones(10)\n",
    "W=(np.ones(10)*3)\n",
    "V=(np.array(range(10))+15)\n",
    "\n",
    "\n",
    "\n",
    "#print(X.shape)\n",
    "#print(Y.shape)\n",
    "#print(Z.shape)\n",
    "#print(W.shape)\n",
    "#print(V.shape)\n",
    "tic =time.time()\n",
    "for i in range (1000000):\n",
    "    X1=X.reshape(-1,1)\n",
    "    Y1=Y.reshape(-1,1)\n",
    "    Z1=Z.reshape(-1,1)\n",
    "    V1=V.reshape(-1,1)\n",
    "    W1=W.reshape(-1,1)\n",
    "\n",
    "total=np.concatenate((X1,Y1,Z1,W1,V1), axis=1)\n",
    "tac=time.time()\n",
    "\n",
    "print(total) \n",
    "print(tac-tic)"
   ]
  },
  {
   "cell_type": "code",
   "execution_count": 37,
   "metadata": {},
   "outputs": [
    {
     "name": "stdout",
     "output_type": "stream",
     "text": [
      "[[ 0.  0.  1.  3. 15.]\n",
      " [ 1.  1.  1.  3. 16.]\n",
      " [ 2.  2.  1.  3. 17.]\n",
      " [ 3.  3.  1.  3. 18.]\n",
      " [ 4.  4.  1.  3. 19.]\n",
      " [ 5.  5.  1.  3. 20.]\n",
      " [ 6.  6.  1.  3. 21.]\n",
      " [ 7.  7.  1.  3. 22.]\n",
      " [ 8.  8.  1.  3. 23.]\n",
      " [ 9.  9.  1.  3. 24.]]\n",
      "2.885636568069458\n"
     ]
    }
   ],
   "source": [
    "X=np.array([0.,1,2,3,4,5,6,7,8,9])\n",
    "Y= np.array(range(10))\n",
    "Z = np.ones(10)\n",
    "W=(np.ones(10)*3)\n",
    "V=(np.array(range(10))+15)\n",
    "\n",
    "tic =time.time()\n",
    "for i in range (1000000):\n",
    "    total2 =np.ones((10,5))\n",
    "    #print(total2)\n",
    "    total2[:,0]=X\n",
    "    total2[:,1]=Y\n",
    "    total2[:,2]=Z\n",
    "    total2[:,3]=W\n",
    "    total2[:,4]=V\n",
    "tac=time.time()\n",
    "print (total2)\n",
    "print(tac-tic)\n"
   ]
  },
  {
   "cell_type": "code",
   "execution_count": 38,
   "metadata": {},
   "outputs": [
    {
     "name": "stdout",
     "output_type": "stream",
     "text": [
      "[[ 0.  0.  1.  3. 15.]\n",
      " [ 1.  1.  1.  3. 16.]\n",
      " [ 2.  2.  1.  3. 17.]\n",
      " [ 3.  3.  1.  3. 18.]\n",
      " [ 4.  4.  1.  3. 19.]\n",
      " [ 5.  5.  1.  3. 20.]\n",
      " [ 6.  6.  1.  3. 21.]\n",
      " [ 7.  7.  1.  3. 22.]\n",
      " [ 8.  8.  1.  3. 23.]\n",
      " [ 9.  9.  1.  3. 24.]]\n",
      "2.8725717067718506\n"
     ]
    }
   ],
   "source": [
    "import time\n",
    "X=np.array([0.,1,2,3,4,5,6,7,8,9])\n",
    "Y= np.array(range(10))\n",
    "Z = np.ones(10)\n",
    "W=(np.ones(10)*3)\n",
    "V=(np.array(range(10))+15)\n",
    "\n",
    "\n",
    "\n",
    "#print(X.shape)\n",
    "#print(Y.shape)\n",
    "#print(Z.shape)\n",
    "#print(W.shape)\n",
    "#print(V.shape)\n",
    "tic =time.time()\n",
    "for i in range (1000000):\n",
    "    #X1=X.reshape(-1,1)\n",
    "    #Y1=Y.reshape(-1,1)\n",
    "    #Z1=Z.reshape(-1,1)\n",
    "    #V1=V.reshape(-1,1)\n",
    "    #W1=W.reshape(-1,1)\n",
    "\n",
    "    total=np.concatenate((X.reshape(-1,1),Y.reshape(-1,1),Z.reshape(-1,1),W.reshape(-1,1),V.reshape(-1,1)), axis=1)\n",
    "tac=time.time()\n",
    "\n",
    "print(total) \n",
    "print(tac-tic)"
   ]
  },
  {
   "cell_type": "code",
   "execution_count": 39,
   "metadata": {},
   "outputs": [
    {
     "name": "stdout",
     "output_type": "stream",
     "text": [
      "[[ 0.  0.  1.  3. 15.]\n",
      " [ 1.  1.  1.  3. 16.]\n",
      " [ 2.  2.  1.  3. 17.]\n",
      " [ 3.  3.  1.  3. 18.]\n",
      " [ 4.  4.  1.  3. 19.]\n",
      " [ 5.  5.  1.  3. 20.]\n",
      " [ 6.  6.  1.  3. 21.]\n",
      " [ 7.  7.  1.  3. 22.]\n",
      " [ 8.  8.  1.  3. 23.]\n",
      " [ 9.  9.  1.  3. 24.]]\n",
      "\n",
      "\n",
      "\n",
      "\n",
      "\n",
      "[[ 0.  0.  0.  0.  0.]\n",
      " [ 0.  0.  1.  3. 15.]\n",
      " [ 1.  1.  1.  3. 16.]\n",
      " [ 2.  2.  1.  3. 17.]\n",
      " [ 3.  3.  1.  3. 18.]\n",
      " [ 4.  4.  1.  3. 19.]\n",
      " [ 5.  5.  1.  3. 20.]\n",
      " [ 6.  6.  1.  3. 21.]\n",
      " [ 7.  7.  1.  3. 22.]\n",
      " [ 8.  8.  1.  3. 23.]\n",
      " [ 9.  9.  1.  3. 24.]\n",
      " [10.  0.  1.  3. 15.]\n",
      " [11.  1.  1.  3. 16.]\n",
      " [12.  2.  1.  3. 17.]\n",
      " [13.  3.  1.  3. 18.]\n",
      " [14.  4.  1.  3. 19.]\n",
      " [15.  5.  1.  3. 20.]\n",
      " [16.  6.  1.  3. 21.]\n",
      " [17.  7.  1.  3. 22.]\n",
      " [18.  8.  1.  3. 23.]\n",
      " [19.  9.  1.  3. 24.]\n",
      " [20.  0.  1.  3. 15.]\n",
      " [21.  1.  1.  3. 16.]\n",
      " [22.  2.  1.  3. 17.]\n",
      " [23.  3.  1.  3. 18.]\n",
      " [24.  4.  1.  3. 19.]\n",
      " [25.  5.  1.  3. 20.]\n",
      " [26.  6.  1.  3. 21.]\n",
      " [27.  7.  1.  3. 22.]\n",
      " [28.  8.  1.  3. 23.]\n",
      " [29.  9.  1.  3. 24.]]\n"
     ]
    }
   ],
   "source": [
    "X=np.array([0.,1,2,3,4,5,6,7,8,9])\n",
    "Y= np.array(range(10))\n",
    "Z = np.ones(10)\n",
    "W=(np.ones(10)*3)\n",
    "V=(np.array(range(10))+15)\n",
    "\n",
    "X1=X.reshape(-1,1)\n",
    "Y1=Y.reshape(-1,1)\n",
    "Z1=Z.reshape(-1,1)\n",
    "V1=V.reshape(-1,1)\n",
    "W1=W.reshape(-1,1)\n",
    "\n",
    "complet1=np.concatenate((X1,Y1,Z1,W1,V1), axis=1)\n",
    "\n",
    "print (total)\n",
    "print()\n",
    "\n",
    "complet=np.array([[0,0,0,0,0]])\n",
    "for i in range (0,3,1):\n",
    "    X=np.array([0.,1,2,3,4,5,6,7,8,9])+10*i\n",
    "    Y= np.array(range(10))\n",
    "    Z = np.ones(10)\n",
    "    W=(np.ones(10)*3)\n",
    "    V=(np.array(range(10))+15)\n",
    "\n",
    "    X1=X.reshape(-1,1)\n",
    "    Y1=Y.reshape(-1,1)\n",
    "    Z1=Z.reshape(-1,1)\n",
    "    V1=V.reshape(-1,1)\n",
    "    W1=W.reshape(-1,1)\n",
    "\n",
    "    total2=np.concatenate((X1,Y1,Z1,W1,V1), axis=1)\n",
    "    complet=np.concatenate((complet,total2),axis=0)\n",
    "   \n",
    "    print()\n",
    "print()\n",
    "\n",
    "print (complet)\n",
    "\n"
   ]
  },
  {
   "cell_type": "code",
   "execution_count": 40,
   "metadata": {},
   "outputs": [
    {
     "name": "stdout",
     "output_type": "stream",
     "text": [
      "[[ 0.  0.  1.  3. 15.]\n",
      " [ 1.  1.  1.  3. 16.]\n",
      " [ 2.  2.  1.  3. 17.]\n",
      " [ 3.  3.  1.  3. 18.]\n",
      " [ 4.  4.  1.  3. 19.]\n",
      " [ 5.  5.  1.  3. 20.]\n",
      " [ 6.  6.  1.  3. 21.]\n",
      " [ 7.  7.  1.  3. 22.]\n",
      " [ 8.  8.  1.  3. 23.]\n",
      " [ 9.  9.  1.  3. 24.]\n",
      " [10.  0.  1.  3. 15.]\n",
      " [11.  1.  1.  3. 16.]\n",
      " [12.  2.  1.  3. 17.]\n",
      " [13.  3.  1.  3. 18.]\n",
      " [14.  4.  1.  3. 19.]\n",
      " [15.  5.  1.  3. 20.]\n",
      " [16.  6.  1.  3. 21.]\n",
      " [17.  7.  1.  3. 22.]\n",
      " [18.  8.  1.  3. 23.]\n",
      " [19.  9.  1.  3. 24.]\n",
      " [20.  0.  1.  3. 15.]\n",
      " [21.  1.  1.  3. 16.]\n",
      " [22.  2.  1.  3. 17.]\n",
      " [23.  3.  1.  3. 18.]\n",
      " [24.  4.  1.  3. 19.]\n",
      " [25.  5.  1.  3. 20.]\n",
      " [26.  6.  1.  3. 21.]\n",
      " [27.  7.  1.  3. 22.]\n",
      " [28.  8.  1.  3. 23.]\n",
      " [29.  9.  1.  3. 24.]]\n"
     ]
    }
   ],
   "source": [
    "complet=np.delete(complet,0,0)\n",
    "print (complet)"
   ]
  },
  {
   "cell_type": "markdown",
   "metadata": {},
   "source": [
    "<h3>Operation sur une colonne"
   ]
  },
  {
   "cell_type": "code",
   "execution_count": 41,
   "metadata": {},
   "outputs": [
    {
     "name": "stdout",
     "output_type": "stream",
     "text": [
      "[[ 0.  0.  1.  3. 15.]\n",
      " [ 1.  1.  1.  3. 16.]\n",
      " [ 2.  2.  1.  3. 17.]\n",
      " [ 3.  3.  1.  3. 18.]\n",
      " [ 4.  4.  1.  3. 19.]\n",
      " [ 5.  5.  1.  3. 20.]\n",
      " [ 6.  6.  1.  3. 21.]\n",
      " [ 7.  7.  1.  3. 22.]\n",
      " [ 8.  8.  1.  3. 23.]\n",
      " [ 9.  9.  1.  3. 24.]]\n"
     ]
    }
   ],
   "source": [
    "print(total)"
   ]
  },
  {
   "cell_type": "code",
   "execution_count": 42,
   "metadata": {},
   "outputs": [
    {
     "name": "stdout",
     "output_type": "stream",
     "text": [
      "[0. 1. 2. 3. 4. 5. 6. 7. 8. 9.]\n"
     ]
    }
   ],
   "source": [
    "print(total[:,0])"
   ]
  },
  {
   "cell_type": "code",
   "execution_count": 43,
   "metadata": {},
   "outputs": [
    {
     "name": "stdout",
     "output_type": "stream",
     "text": [
      "[[ 0.  0.  1.  3. 15.]\n",
      " [ 2.  1.  1.  3. 16.]\n",
      " [ 4.  2.  1.  3. 17.]\n",
      " [ 6.  3.  1.  3. 18.]\n",
      " [ 8.  4.  1.  3. 19.]\n",
      " [10.  5.  1.  3. 20.]\n",
      " [13.  6.  1.  3. 21.]\n",
      " [15.  7.  1.  3. 22.]\n",
      " [17.  8.  1.  3. 23.]\n",
      " [19.  9.  1.  3. 24.]]\n"
     ]
    }
   ],
   "source": [
    "total[:,0]=np.around(total[:,0]*2.1,0)\n",
    "print (total)"
   ]
  },
  {
   "cell_type": "markdown",
   "metadata": {},
   "source": [
    "<h3>Version avec tableau Points,tws,twd"
   ]
  },
  {
   "cell_type": "code",
   "execution_count": 44,
   "metadata": {},
   "outputs": [
    {
     "name": "stdout",
     "output_type": "stream",
     "text": [
      "[[  2.12  43.3    0.     0.     1.   150.   358.  ]\n",
      " [  4.13  43.1    1.     0.     2.   152.   359.  ]\n",
      " [  3.14  43.25   1.     0.     3.   152.   358.  ]\n",
      " [  2.25  42.75   1.     3.     4.   152.   357.  ]\n",
      " [  2.37  43.25   2.     5.     5.   153.   359.  ]\n",
      " [  2.75  43.35   2.     3.     6.   156.   356.  ]\n",
      " [  2.85  43.55   2.     3.     7.   156.   356.  ]\n",
      " [  2.95  42.35   3.     3.     8.   156.   356.  ]\n",
      " [  3.15  44.35   3.     7.     9.   156.   356.  ]]\n"
     ]
    }
   ],
   "source": [
    "a=np.array([[2.12,43.3,0,0,1,150.,358],[4.13,43.1,1,0,2,152,359],[3.14,43.25,1,0,3,152,358],\n",
    "            [2.25,42.75,1,3,4,152,357],[2.37,43.25,2,5,5,153,359],[2.75,43.35,2,3,6,156,356],\n",
    "            [2.85,43.55,2,3,7,156,356],[2.95,42.35,3,3,8,156,356],[3.15,44.35,3,7,9,156,356]])\n",
    "print(a)"
   ]
  },
  {
   "cell_type": "code",
   "execution_count": 45,
   "metadata": {},
   "outputs": [
    {
     "name": "stdout",
     "output_type": "stream",
     "text": [
      "[[ 2.12 43.3   0.  ]\n",
      " [ 4.13 43.1   1.  ]\n",
      " [ 3.14 43.25  1.  ]\n",
      " [ 2.25 42.75  1.  ]\n",
      " [ 2.37 43.25  2.  ]\n",
      " [ 2.75 43.35  2.  ]\n",
      " [ 2.85 43.55  2.  ]\n",
      " [ 2.95 42.35  3.  ]\n",
      " [ 3.15 44.35  3.  ]]\n"
     ]
    }
   ],
   "source": [
    "iso=a[:,0:3]\n",
    "print (iso)"
   ]
  },
  {
   "cell_type": "code",
   "execution_count": 46,
   "metadata": {},
   "outputs": [
    {
     "name": "stdout",
     "output_type": "stream",
     "text": [
      "[array([[ 2.12, 43.3 ],\n",
      "       [ 4.13, 43.1 ],\n",
      "       [ 3.14, 43.25],\n",
      "       [ 2.25, 42.75]]), array([[ 2.37, 43.25],\n",
      "       [ 2.75, 43.35],\n",
      "       [ 2.85, 43.55]]), array([[ 2.95, 42.35],\n",
      "       [ 3.15, 44.35]])]\n"
     ]
    }
   ],
   "source": [
    "polyline=np.split(iso[:,0:2],np.where(np.diff(iso[1:,2])==1)[0]+2)\n",
    "print (polyline)\n",
    "#print (polyline.tolist())"
   ]
  },
  {
   "cell_type": "code",
   "execution_count": 47,
   "metadata": {},
   "outputs": [
    {
     "name": "stdout",
     "output_type": "stream",
     "text": [
      "[[[2.12, 43.3], [4.13, 43.1], [3.14, 43.25], [2.25, 42.75]], [[2.37, 43.25], [2.75, 43.35], [2.85, 43.55]], [[2.95, 42.35], [3.15, 44.35]]]\n"
     ]
    }
   ],
   "source": [
    "l2=[arr.tolist() for arr in polyline]\n",
    "print(l2)"
   ]
  },
  {
   "cell_type": "markdown",
   "metadata": {},
   "source": [
    "<h3> Permutation et changement de signe sur les 2 premieres colonnes"
   ]
  },
  {
   "cell_type": "code",
   "execution_count": 48,
   "metadata": {},
   "outputs": [
    {
     "name": "stdout",
     "output_type": "stream",
     "text": [
      "[[ 2.12 43.3   0.  ]\n",
      " [ 4.13 43.1   1.  ]\n",
      " [ 3.14 43.25  1.  ]\n",
      " [ 2.25 42.75  1.  ]\n",
      " [ 2.37 43.25  2.  ]\n",
      " [ 2.75 43.35  2.  ]\n",
      " [ 2.85 43.55  2.  ]\n",
      " [ 2.95 42.35  3.  ]\n",
      " [ 3.15 44.35  3.  ]]\n",
      "[[-43.3    2.12   0.  ]\n",
      " [-43.1    4.13   1.  ]\n",
      " [-43.25   3.14   1.  ]\n",
      " [-42.75   2.25   1.  ]\n",
      " [-43.25   2.37   2.  ]\n",
      " [-43.35   2.75   2.  ]\n",
      " [-43.55   2.85   2.  ]\n",
      " [-42.35   2.95   3.  ]\n",
      " [-44.35   3.15   3.  ]]\n",
      "[[-43.3    2.12]\n",
      " [-43.1    4.13]\n",
      " [-43.25   3.14]\n",
      " [-42.75   2.25]\n",
      " [-43.25   2.37]\n",
      " [-43.35   2.75]\n",
      " [-43.55   2.85]\n",
      " [-42.35   2.95]\n",
      " [-44.35   3.15]]\n"
     ]
    }
   ],
   "source": [
    "a=np.array([[2.12,43.3,0,0,1,150.,358],[4.13,43.1,1,0,2,152,359],[3.14,43.25,1,0,3,152,358],\n",
    "            [2.25,42.75,1,3,4,152,357],[2.37,43.25,2,5,5,153,359],[2.75,43.35,2,3,6,156,356],\n",
    "            [2.85,43.55,2,3,7,156,356],[2.95,42.35,3,3,8,156,356],[3.15,44.35,3,7,9,156,356]])\n",
    "\n",
    "points=a[:,0:3]\n",
    "X=points[:,0].reshape(-1,1)\n",
    "Y=points[:,1].reshape(-1,1)\n",
    "N=points[:,2].reshape(-1,1)\n",
    "\n",
    "tableau=np.concatenate((-Y,X,N),1)\n",
    "print(points)\n",
    "print(tableau)\n",
    "points3=tableau[:,0:2]\n",
    "print(points3)\n"
   ]
  },
  {
   "cell_type": "code",
   "execution_count": 49,
   "metadata": {},
   "outputs": [],
   "source": [
    "points3[8]=[-55,3.15]"
   ]
  },
  {
   "cell_type": "code",
   "execution_count": 50,
   "metadata": {},
   "outputs": [
    {
     "name": "stdout",
     "output_type": "stream",
     "text": [
      "[[-43.3    2.12]\n",
      " [-43.1    4.13]\n",
      " [-43.25   3.14]\n",
      " [-42.75   2.25]\n",
      " [-43.25   2.37]\n",
      " [-43.35   2.75]\n",
      " [-43.55   2.85]\n",
      " [-42.35   2.95]\n",
      " [-55.     3.15]]\n"
     ]
    }
   ],
   "source": [
    "print(points3)"
   ]
  },
  {
   "cell_type": "code",
   "execution_count": 51,
   "metadata": {},
   "outputs": [],
   "source": [
    "c= np.zeros((10,2))"
   ]
  },
  {
   "cell_type": "code",
   "execution_count": 52,
   "metadata": {},
   "outputs": [
    {
     "name": "stdout",
     "output_type": "stream",
     "text": [
      "[[0. 0.]\n",
      " [0. 0.]\n",
      " [0. 0.]\n",
      " [0. 0.]\n",
      " [0. 0.]\n",
      " [0. 0.]\n",
      " [0. 0.]\n",
      " [0. 0.]\n",
      " [0. 0.]\n",
      " [0. 0.]]\n"
     ]
    }
   ],
   "source": [
    "print (c)"
   ]
  },
  {
   "cell_type": "markdown",
   "metadata": {},
   "source": [
    "<h3> Extraction une ligne sur cinq dans polyline"
   ]
  },
  {
   "cell_type": "code",
   "execution_count": 53,
   "metadata": {},
   "outputs": [
    {
     "name": "stdout",
     "output_type": "stream",
     "text": [
      "[[  2.12  43.3    0.     0.     1.   150.   358.  ]\n",
      " [  4.13  43.1    1.     0.     2.   152.   359.  ]\n",
      " [  1.75  43.25   1.     0.     3.   152.   358.  ]\n",
      " [  2.25  42.75   1.     3.     4.   152.   357.  ]\n",
      " [  2.37  43.25   2.     5.     5.   153.   359.  ]\n",
      " [  2.75  43.35   2.     3.     6.   156.   356.  ]\n",
      " [  2.85  43.55   2.     3.     7.   156.   356.  ]\n",
      " [  2.95  42.35   3.     3.     8.   156.   356.  ]\n",
      " [  3.15  44.35   3.     7.     9.   156.   356.  ]\n",
      " [  2.12  43.3    4.     0.    10.   150.   358.  ]\n",
      " [  4.13  43.1    4.     0.    11.   152.   359.  ]\n",
      " [  3.14  43.25   5.     0.    12.   152.   358.  ]\n",
      " [  2.25  42.75   5.     3.    13.   152.   357.  ]\n",
      " [  1.37  43.25   5.     5.    14.   153.   359.  ]\n",
      " [  2.75  43.35   5.     3.    15.   156.   356.  ]\n",
      " [  2.85  43.55   7.     3.    16.   156.   356.  ]\n",
      " [  2.95  42.35   7.     3.    17.   156.   356.  ]\n",
      " [  3.15  44.35   7.     7.    18.   156.   356.  ]]\n",
      "[array([[ 2.12, 43.3 ],\n",
      "       [ 4.13, 43.1 ],\n",
      "       [ 1.75, 43.25],\n",
      "       [ 2.25, 42.75]]), array([[ 2.37, 43.25],\n",
      "       [ 2.75, 43.35],\n",
      "       [ 2.85, 43.55]]), array([[ 2.95, 42.35],\n",
      "       [ 3.15, 44.35]]), array([[ 2.12, 43.3 ],\n",
      "       [ 4.13, 43.1 ]]), array([[ 3.14, 43.25],\n",
      "       [ 2.25, 42.75],\n",
      "       [ 1.37, 43.25],\n",
      "       [ 2.75, 43.35],\n",
      "       [ 2.85, 43.55],\n",
      "       [ 2.95, 42.35],\n",
      "       [ 3.15, 44.35]])]\n",
      "\n",
      "[[[2.12, 43.3], [4.13, 43.1], [1.75, 43.25], [2.25, 42.75]], [[2.37, 43.25], [2.75, 43.35], [2.85, 43.55]], [[2.95, 42.35], [3.15, 44.35]], [[2.12, 43.3], [4.13, 43.1]], [[3.14, 43.25], [2.25, 42.75], [1.37, 43.25], [2.75, 43.35], [2.85, 43.55], [2.95, 42.35], [3.15, 44.35]]]\n"
     ]
    }
   ],
   "source": [
    "a=np.array([[2.12,43.3,0 ,0,1,150.,358],[4.13,43.1,1,0.,2,152,359],[1.75,43.25,1,0,3,152,358],\n",
    "            [2.25,42.75,1,3,4,152,357],[2.37,43.25,2,5,5,153,359],[2.75,43.35,2,3,6,156,356],\n",
    "            [2.85,43.55, 2 ,3,7,156,356],[2.95,42.35,3,3,8,156,356],[3.15,44.35,3,7,9,156,356],\n",
    "            [2.12,43.3, 4 ,0,10,150.,358],[4.13,43.1,4,0,11,152,359],[3.14,43.25,5,0,12,152,358],\n",
    "            [2.25,42.75, 5 ,3,13,152,357],[1.37,43.25, 5 ,5,14,153,359],[2.75,43.35, 5 ,3,15,156,356],\n",
    "            [2.85,43.55, 7 ,3,16,156,356],[2.95,42.35,7,3,17,156,356],[3.15,44.35,7,7,18,156,356]\n",
    "           \n",
    "           ])\n",
    "print(a)\n",
    "polyline=np.split(a[:,0:2],np.where(np.diff(a[1:,2])==1)[0]+2)\n",
    "print(polyline)\n",
    "print()\n",
    "l3=[arr.tolist() for arr in polyline]\n",
    "print(l3)"
   ]
  },
  {
   "cell_type": "code",
   "execution_count": 54,
   "metadata": {},
   "outputs": [
    {
     "name": "stdout",
     "output_type": "stream",
     "text": [
      "[[[2.12, 43.3], [4.13, 43.1], [1.75, 43.25], [2.25, 42.75]]]\n",
      "[[[2.37, 43.25], [2.75, 43.35], [2.85, 43.55]], [[2.95, 42.35], [3.15, 44.35]], [[2.12, 43.3], [4.13, 43.1]], [[3.14, 43.25], [2.25, 42.75], [1.37, 43.25], [2.75, 43.35], [2.85, 43.55], [2.95, 42.35], [3.15, 44.35]]]\n"
     ]
    }
   ],
   "source": [
    "red=[]\n",
    "black=[]\n",
    "for i in range(len(l3)):\n",
    "    if i%5==0:\n",
    "        red.append(l3[i])\n",
    "    else:\n",
    "        black.append(l3[i])\n",
    "        \n",
    "print (red)\n",
    "print (black)\n",
    "               "
   ]
  },
  {
   "cell_type": "markdown",
   "metadata": {},
   "source": [
    "<h3> Donner une valeur mini a une colonne\n",
    "\n"
   ]
  },
  {
   "cell_type": "code",
   "execution_count": 55,
   "metadata": {},
   "outputs": [
    {
     "name": "stdout",
     "output_type": "stream",
     "text": [
      "[[  2.12  43.3    0.     0.     1.   150.   358.  ]\n",
      " [  4.13  43.1    1.     0.     2.   152.   359.  ]\n",
      " [  1.75  43.25   1.     0.     3.   152.   358.  ]\n",
      " [  2.25  42.75   1.     3.     4.   152.   357.  ]\n",
      " [  2.37  43.25   2.     5.     5.   153.   359.  ]\n",
      " [  2.75  43.35   2.     3.     6.   156.   356.  ]\n",
      " [  2.85  43.55   2.     3.     7.   156.   356.  ]\n",
      " [  2.95  42.35   3.     3.     8.   156.   356.  ]\n",
      " [  3.15  44.35   3.     7.     9.   156.   356.  ]\n",
      " [  2.12  43.3    4.     0.    10.   150.   358.  ]\n",
      " [  4.13  43.1    4.     0.    11.   152.   359.  ]\n",
      " [  3.14  43.25   5.     0.    12.   152.   358.  ]\n",
      " [  2.25  42.75   5.     3.    13.   152.   357.  ]\n",
      " [  1.37  43.25   5.     5.    14.   153.   359.  ]\n",
      " [  2.75  43.35   5.     3.    15.   156.   356.  ]\n",
      " [  2.85  43.55   7.     3.    16.   156.   356.  ]\n",
      " [  2.95  42.35   7.     3.    17.   156.   356.  ]\n",
      " [  3.15  44.35   7.     7.    18.   156.   356.  ]]\n"
     ]
    }
   ],
   "source": [
    "print (a)"
   ]
  },
  {
   "cell_type": "code",
   "execution_count": 56,
   "metadata": {},
   "outputs": [
    {
     "name": "stdout",
     "output_type": "stream",
     "text": [
      "[[2.12]\n",
      " [4.13]\n",
      " [1.75]\n",
      " [2.25]\n",
      " [2.37]\n",
      " [2.75]\n",
      " [2.85]\n",
      " [2.95]\n",
      " [3.15]\n",
      " [2.12]\n",
      " [4.13]\n",
      " [3.14]\n",
      " [2.25]\n",
      " [1.37]\n",
      " [2.75]\n",
      " [2.85]\n",
      " [2.95]\n",
      " [3.15]]\n",
      "[[2.12]\n",
      " [4.13]\n",
      " [2.  ]\n",
      " [2.25]\n",
      " [2.37]\n",
      " [2.75]\n",
      " [2.85]\n",
      " [2.95]\n",
      " [3.15]\n",
      " [2.12]\n",
      " [4.13]\n",
      " [3.14]\n",
      " [2.25]\n",
      " [2.  ]\n",
      " [2.75]\n",
      " [2.85]\n",
      " [2.95]\n",
      " [3.15]]\n"
     ]
    }
   ],
   "source": [
    "b= a[:,0:1]\n",
    "print(b)\n",
    "b[b <2] = 2\n",
    "print (b)\n"
   ]
  },
  {
   "cell_type": "markdown",
   "metadata": {},
   "source": [
    "<h3>Extraction Gr lorsque l'on passe 360 Extraction du debut et de la fin du grib "
   ]
  },
  {
   "cell_type": "code",
   "execution_count": 57,
   "metadata": {},
   "outputs": [
    {
     "name": "stdout",
     "output_type": "stream",
     "text": [
      "[[  2.12  43.3    0.     0.     1.   150.   358.  ]\n",
      " [  4.13  43.1    1.     0.     2.   152.   359.  ]\n",
      " [  2.    43.25   1.     0.     3.   152.   358.  ]\n",
      " [  2.25  42.75   1.     3.     4.   152.   357.  ]\n",
      " [  2.37  43.25   2.     5.     5.   153.   359.  ]\n",
      " [  2.75  43.35   2.     3.     6.   156.   356.  ]\n",
      " [  2.85  43.55   2.     3.     7.   156.   356.  ]\n",
      " [  2.95  42.35   3.     3.     8.   156.   356.  ]\n",
      " [  3.15  44.35   3.     7.     9.   156.   356.  ]\n",
      " [  2.12  43.3    4.     0.    10.   150.   358.  ]\n",
      " [  4.13  43.1    4.     0.    11.   152.   359.  ]\n",
      " [  3.14  43.25   5.     0.    12.   152.   358.  ]\n",
      " [  2.25  42.75   5.     3.    13.   152.   357.  ]\n",
      " [  2.    43.25   5.     5.    14.   153.   359.  ]\n",
      " [  2.75  43.35   5.     3.    15.   156.   356.  ]\n",
      " [  2.85  43.55   7.     3.    16.   156.   356.  ]\n",
      " [  2.95  42.35   7.     3.    17.   156.   356.  ]\n",
      " [  3.15  44.35   7.     7.    18.   156.   356.  ]]\n"
     ]
    }
   ],
   "source": [
    "print(a)"
   ]
  },
  {
   "cell_type": "code",
   "execution_count": 58,
   "metadata": {},
   "outputs": [
    {
     "name": "stdout",
     "output_type": "stream",
     "text": [
      "fin :  2\n",
      "debut :  3\n",
      "7\n",
      "[[150. 358.]\n",
      " [152. 359.]\n",
      " [152. 358.]\n",
      " [152. 357.]\n",
      " [153. 359.]\n",
      " [156. 356.]\n",
      " [156. 356.]\n",
      " [156. 356.]\n",
      " [156. 356.]\n",
      " [150. 358.]\n",
      " [152. 359.]\n",
      " [152. 358.]\n",
      " [152. 357.]\n",
      " [153. 359.]\n",
      " [156. 356.]\n",
      " [156. 356.]\n",
      " [156. 356.]\n",
      " [156. 356.]]\n",
      "[[ 2.12 43.3   0.  ]\n",
      " [ 4.13 43.1   1.  ]\n",
      " [ 2.   43.25  1.  ]\n",
      " [ 2.25 42.75  1.  ]\n",
      " [ 2.37 43.25  2.  ]\n",
      " [ 2.75 43.35  2.  ]\n",
      " [ 2.85 43.55  2.  ]\n",
      " [ 2.95 42.35  3.  ]\n",
      " [ 3.15 44.35  3.  ]\n",
      " [ 2.12 43.3   4.  ]\n",
      " [ 4.13 43.1   4.  ]\n",
      " [ 3.14 43.25  5.  ]\n",
      " [ 2.25 42.75  5.  ]\n",
      " [ 2.   43.25  5.  ]\n",
      " [ 2.75 43.35  5.  ]\n",
      " [ 2.85 43.55  7.  ]\n",
      " [ 2.95 42.35  7.  ]\n",
      " [ 3.15 44.35  7.  ]]\n",
      "[[150.   358.     2.12  43.3    0.  ]\n",
      " [152.   359.     4.13  43.1    1.  ]\n",
      " [152.   358.     2.    43.25   1.  ]\n",
      " [152.   357.     2.25  42.75   1.  ]\n",
      " [153.   359.     2.37  43.25   2.  ]\n",
      " [156.   356.     2.75  43.35   2.  ]\n",
      " [156.   356.     2.85  43.55   2.  ]\n",
      " [156.   356.     2.95  42.35   3.  ]\n",
      " [156.   356.     3.15  44.35   3.  ]\n",
      " [150.   358.     2.12  43.3    4.  ]\n",
      " [152.   359.     4.13  43.1    4.  ]\n",
      " [152.   358.     3.14  43.25   5.  ]\n",
      " [152.   357.     2.25  42.75   5.  ]\n",
      " [153.   359.     2.    43.25   5.  ]\n",
      " [156.   356.     2.75  43.35   5.  ]\n",
      " [156.   356.     2.85  43.55   7.  ]\n",
      " [156.   356.     2.95  42.35   7.  ]\n",
      " [156.   356.     3.15  44.35   7.  ]]\n"
     ]
    }
   ],
   "source": [
    "i_ini=5\n",
    "i_fin=2\n",
    "fin=a.shape[1]-i_ini\n",
    "debut=i_fin+1\n",
    "\n",
    "print('fin : ',fin)\n",
    "print('debut : ',debut)\n",
    "print(a.shape[1])\n",
    "\n",
    "if (i_fin<i_ini):\n",
    "    b=a[:,-fin:]    # selection des 2 dernières colonnes\n",
    "    c=a[:,:debut]  # selection des  \n",
    "d=np.concatenate((b,c),axis=1)\n",
    "\n",
    "print (b)  \n",
    "print(c)\n",
    "print(d)"
   ]
  },
  {
   "cell_type": "code",
   "execution_count": 59,
   "metadata": {},
   "outputs": [
    {
     "name": "stdout",
     "output_type": "stream",
     "text": [
      "true\n"
     ]
    }
   ],
   "source": [
    "ngrib='384'\n",
    "v1='18'\n",
    "hutc=15\n",
    "if (ngrib=='384' and v1=='18' and hutc <310) :  \n",
    "    print('true')"
   ]
  },
  {
   "cell_type": "code",
   "execution_count": 60,
   "metadata": {},
   "outputs": [
    {
     "name": "stdout",
     "output_type": "stream",
     "text": [
      "[[[0. 0. 0. 0. 0. 0.]\n",
      "  [0. 0. 0. 0. 0. 0.]\n",
      "  [0. 0. 0. 0. 0. 0.]]\n",
      "\n",
      " [[0. 0. 0. 0. 0. 0.]\n",
      "  [0. 0. 0. 0. 0. 0.]\n",
      "  [0. 0. 0. 0. 0. 0.]]\n",
      "\n",
      " [[0. 0. 0. 0. 0. 0.]\n",
      "  [0. 0. 0. 0. 0. 0.]\n",
      "  [0. 0. 0. 0. 0. 0.]]\n",
      "\n",
      " [[0. 0. 0. 0. 0. 0.]\n",
      "  [0. 0. 0. 0. 0. 0.]\n",
      "  [0. 0. 0. 0. 0. 0.]]]\n",
      "(4, 3, 6)\n"
     ]
    }
   ],
   "source": [
    "GR = np.zeros((4,3,6))\n",
    "print(GR)\n",
    "print(GR.shape)"
   ]
  },
  {
   "cell_type": "code",
   "execution_count": 61,
   "metadata": {},
   "outputs": [
    {
     "name": "stdout",
     "output_type": "stream",
     "text": [
      "[[[1. 1. 1. 1. 1. 1.]\n",
      "  [1. 1. 1. 1. 1. 1.]\n",
      "  [1. 1. 1. 1. 1. 1.]]\n",
      "\n",
      " [[1. 1. 1. 1. 1. 1.]\n",
      "  [1. 1. 1. 1. 1. 1.]\n",
      "  [1. 1. 1. 1. 1. 1.]]]\n",
      "(2, 3, 6)\n"
     ]
    }
   ],
   "source": [
    "PR=np.ones((2,3,6))\n",
    "print (PR)\n",
    "print(PR.shape)"
   ]
  },
  {
   "cell_type": "code",
   "execution_count": 62,
   "metadata": {},
   "outputs": [
    {
     "name": "stdout",
     "output_type": "stream",
     "text": [
      "[[[0. 0. 0. 0. 0. 0.]\n",
      "  [0. 0. 0. 0. 0. 0.]\n",
      "  [0. 0. 0. 0. 0. 0.]]\n",
      "\n",
      " [[1. 1. 1. 1. 1. 1.]\n",
      "  [1. 1. 1. 1. 1. 1.]\n",
      "  [1. 1. 1. 1. 1. 1.]]\n",
      "\n",
      " [[1. 1. 1. 1. 1. 1.]\n",
      "  [1. 1. 1. 1. 1. 1.]\n",
      "  [1. 1. 1. 1. 1. 1.]]\n",
      "\n",
      " [[0. 0. 0. 0. 0. 0.]\n",
      "  [0. 0. 0. 0. 0. 0.]\n",
      "  [0. 0. 0. 0. 0. 0.]]]\n"
     ]
    }
   ],
   "source": [
    "GR[1:3,:,:]=PR[:,:,:]\n",
    "print (GR)\n"
   ]
  },
  {
   "cell_type": "code",
   "execution_count": 63,
   "metadata": {},
   "outputs": [],
   "source": [
    "#test de modulo\n",
    "\n"
   ]
  },
  {
   "cell_type": "code",
   "execution_count": 94,
   "metadata": {},
   "outputs": [
    {
     "name": "stdout",
     "output_type": "stream",
     "text": [
      "[[170  50]\n",
      " [175  45]\n",
      " [190  35]]\n"
     ]
    }
   ],
   "source": [
    "points= np.array([[170,50],[175,45],[190,35]])\n",
    "print (points)\n"
   ]
  },
  {
   "cell_type": "code",
   "execution_count": 95,
   "metadata": {},
   "outputs": [
    {
     "name": "stdout",
     "output_type": "stream",
     "text": [
      "-190\n",
      "-170\n"
     ]
    }
   ],
   "source": [
    "print(170%(-360))\n",
    "print (190%(-360))"
   ]
  },
  {
   "cell_type": "code",
   "execution_count": 96,
   "metadata": {},
   "outputs": [
    {
     "name": "stdout",
     "output_type": "stream",
     "text": [
      "[[170]\n",
      " [175]\n",
      " [190]]\n"
     ]
    }
   ],
   "source": [
    "a=points[:,0:1]\n",
    "print(a)"
   ]
  },
  {
   "cell_type": "code",
   "execution_count": 97,
   "metadata": {},
   "outputs": [
    {
     "name": "stdout",
     "output_type": "stream",
     "text": [
      "[[ 170]\n",
      " [ 175]\n",
      " [-170]]\n"
     ]
    }
   ],
   "source": [
    "print (np.where(points[:,0:1]>180,-360+points[:,0:1],points[:,0:1]))"
   ]
  },
  {
   "cell_type": "code",
   "execution_count": 98,
   "metadata": {},
   "outputs": [
    {
     "name": "stdout",
     "output_type": "stream",
     "text": [
      "[[ 170   50]\n",
      " [ 175   45]\n",
      " [-170   35]]\n"
     ]
    }
   ],
   "source": [
    "points[:,0:1]=(np.where(points[:,0:1]>180,-360+points[:,0:1],points[:,0:1]))\n",
    "print(points)"
   ]
  },
  {
   "cell_type": "code",
   "execution_count": null,
   "metadata": {},
   "outputs": [],
   "source": []
  }
 ],
 "metadata": {
  "kernelspec": {
   "display_name": "Python 3",
   "language": "python",
   "name": "python3"
  },
  "language_info": {
   "codemirror_mode": {
    "name": "ipython",
    "version": 3
   },
   "file_extension": ".py",
   "mimetype": "text/x-python",
   "name": "python",
   "nbconvert_exporter": "python",
   "pygments_lexer": "ipython3",
   "version": "3.7.6"
  }
 },
 "nbformat": 4,
 "nbformat_minor": 4
}
