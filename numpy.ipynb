{
 "cells": [
  {
   "cell_type": "markdown",
   "metadata": {},
   "source": [
    "<h1> Exemples Numpy"
   ]
  },
  {
   "cell_type": "code",
   "execution_count": 2,
   "metadata": {},
   "outputs": [],
   "source": [
    "import numpy as np"
   ]
  },
  {
   "cell_type": "markdown",
   "metadata": {},
   "source": [
    "<h3>Tri stable de numpy sur une colonne"
   ]
  },
  {
   "cell_type": "code",
   "execution_count": 3,
   "metadata": {},
   "outputs": [
    {
     "name": "stdout",
     "output_type": "stream",
     "text": [
      "[[  2   3   6   3   3 358]\n",
      " [  4   3   7   5   5 359]\n",
      " [  4   3   9   4   1   0]\n",
      " [  2   3   3   3   2   1]\n",
      " [  2   3   3   3   1  10]]\n"
     ]
    }
   ],
   "source": [
    "a=np.array([[2,3,6,3,3,358],[4,3,7,5,5,359],[4,3,9,4,1,0],[2,3,3,3,2,1],[2,3,3,3,1,10]])\n",
    "print(a)"
   ]
  },
  {
   "cell_type": "code",
   "execution_count": 4,
   "metadata": {},
   "outputs": [
    {
     "name": "stdout",
     "output_type": "stream",
     "text": [
      "[[  4   3   9   4   1   0]\n",
      " [  2   3   3   3   2   1]\n",
      " [  2   3   3   3   1  10]\n",
      " [  2   3   6   3   3 358]\n",
      " [  4   3   7   5   5 359]]\n"
     ]
    }
   ],
   "source": [
    "# tri stable sur 5eme colonne\n",
    "a = a[a[:,5].argsort(kind='mergesort')]\n",
    "print (a)"
   ]
  },
  {
   "cell_type": "code",
   "execution_count": 5,
   "metadata": {},
   "outputs": [
    {
     "name": "stdout",
     "output_type": "stream",
     "text": [
      "[[  2   3   3   3   2   1]\n",
      " [  2   3   3   3   1  10]\n",
      " [  2   3   6   3   3 358]\n",
      " [  4   3   9   4   1   0]\n",
      " [  4   3   7   5   5 359]]\n"
     ]
    }
   ],
   "source": [
    "# Puis sur la premiere (l'ordre est conservé sur la dernière qui avait déjà été triée)\n",
    "a = a[a[:,0].argsort(kind='mergesort')]\n",
    "print (a)\n"
   ]
  },
  {
   "cell_type": "markdown",
   "metadata": {},
   "source": [
    "<h3> Maximum sur une colonne"
   ]
  },
  {
   "cell_type": "code",
   "execution_count": 6,
   "metadata": {},
   "outputs": [
    {
     "name": "stdout",
     "output_type": "stream",
     "text": [
      "[3 0 3 4 4 4]\n",
      "Valeur maximum sur colonne 5\n",
      "359\n"
     ]
    }
   ],
   "source": [
    "#ligne des maximums\n",
    "print(np.argmax(a,axis=0))\n",
    "#d'ou valeur max sur la 4eme colonne (axis =0)\n",
    "print ('Valeur maximum sur colonne 5')\n",
    "print (a[np.argmax(a,0)[5],5])\n"
   ]
  },
  {
   "cell_type": "markdown",
   "metadata": {},
   "source": [
    "<h3>Decomposition complexes en coordonnees"
   ]
  },
  {
   "cell_type": "code",
   "execution_count": 7,
   "metadata": {},
   "outputs": [
    {
     "name": "stdout",
     "output_type": "stream",
     "text": [
      "[2.+5.j 3.+4.j 7.+8.j]\n"
     ]
    }
   ],
   "source": [
    "a=np.array([2+5*1j,3+4*1j,7+8*1j])\n",
    "print(a)"
   ]
  },
  {
   "cell_type": "code",
   "execution_count": 8,
   "metadata": {},
   "outputs": [
    {
     "name": "stdout",
     "output_type": "stream",
     "text": [
      "[[-5.  2.]\n",
      " [-4.  3.]\n",
      " [-8.  7.]]\n",
      "[[-5.0, 2.0], [-4.0, 3.0], [-8.0, 7.0]]\n"
     ]
    }
   ],
   "source": [
    "X=a.real.reshape(-1,1)\n",
    "Y=a.imag.reshape(-1,1)\n",
    "points=np.concatenate((-Y,X),axis=1)\n",
    "print(points)\n",
    "print(points.tolist())"
   ]
  },
  {
   "cell_type": "code",
   "execution_count": 9,
   "metadata": {},
   "outputs": [
    {
     "name": "stdout",
     "output_type": "stream",
     "text": [
      "[[-5.0, 2.0], [-4.0, 3.0], [-8.0, 7.0]]\n"
     ]
    }
   ],
   "source": [
    "# en une operation avec latitudes en premier \n",
    "points=np.concatenate((-a.imag.reshape(-1,1),a.real.reshape(-1,1)),axis=1).tolist()\n",
    "print(points)"
   ]
  },
  {
   "cell_type": "code",
   "execution_count": 10,
   "metadata": {},
   "outputs": [
    {
     "name": "stdout",
     "output_type": "stream",
     "text": [
      "(3,)\n"
     ]
    }
   ],
   "source": [
    "print(np.shape(a))\n"
   ]
  },
  {
   "cell_type": "code",
   "execution_count": 13,
   "metadata": {},
   "outputs": [
    {
     "name": "stdout",
     "output_type": "stream",
     "text": [
      "<class 'numpy.ndarray'>\n",
      "(3, 2)\n"
     ]
    }
   ],
   "source": [
    "X=a.real.reshape(-1,1)\n",
    "Y=a.imag.reshape(-1,1)\n",
    "points=np.concatenate((-Y,X),axis=1)\n",
    "print(type(points))\n",
    "print(np.shape(points))"
   ]
  },
  {
   "cell_type": "code",
   "execution_count": 14,
   "metadata": {},
   "outputs": [
    {
     "name": "stdout",
     "output_type": "stream",
     "text": [
      "[[2.]\n",
      " [3.]\n",
      " [7.]]\n"
     ]
    }
   ],
   "source": [
    "print(X)"
   ]
  },
  {
   "cell_type": "code",
   "execution_count": null,
   "metadata": {},
   "outputs": [],
   "source": []
  }
 ],
 "metadata": {
  "kernelspec": {
   "display_name": "Python 3",
   "language": "python",
   "name": "python3"
  },
  "language_info": {
   "codemirror_mode": {
    "name": "ipython",
    "version": 3
   },
   "file_extension": ".py",
   "mimetype": "text/x-python",
   "name": "python",
   "nbconvert_exporter": "python",
   "pygments_lexer": "ipython3",
   "version": "3.7.3"
  }
 },
 "nbformat": 4,
 "nbformat_minor": 4
}
