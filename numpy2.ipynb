{
 "cells": [
  {
   "cell_type": "markdown",
   "metadata": {},
   "source": [
    "Exemples numpy 2"
   ]
  },
  {
   "cell_type": "code",
   "execution_count": 1,
   "metadata": {},
   "outputs": [],
   "source": [
    "import numpy as np"
   ]
  },
  {
   "cell_type": "markdown",
   "metadata": {},
   "source": [
    "<h3>Aplatissement pour passage sur GPU"
   ]
  },
  {
   "cell_type": "code",
   "execution_count": 61,
   "metadata": {},
   "outputs": [
    {
     "name": "stdout",
     "output_type": "stream",
     "text": [
      "[[[ 2  3  6  8]\n",
      "  [ 3  5  4 10]\n",
      "  [ 4  7  8  1]]\n",
      "\n",
      " [[ 2  3  6  8]\n",
      "  [ 3  5  4 10]\n",
      "  [ 4  7  8 15]]]\n",
      "shape (2, 3, 4)\n",
      "[ 2  3  6  8  3  5  4 10  4  7  8  1  2  3  6  8  3  5  4 10  4  7  8 15]\n",
      "Valeur de a 8\n",
      "valeur de b 8\n"
     ]
    }
   ],
   "source": [
    "a=np.array([[[2,3,6,8],[3,5,4,10],[4,7,8,1]],[[2,3,6,8],[3,5,4,10],[4,7,8,15]]])\n",
    "print(a)\n",
    "print ('shape',a.shape)\n",
    "b= np.ravel(a)\n",
    "print(b)\n",
    "i=1\n",
    "j=0\n",
    "k=3\n",
    "print ('Valeur de a',a[i,j,k])\n",
    "\n",
    "print ('valeur de b',b[(3*4*i)+(4*j)+k])"
   ]
  },
  {
   "cell_type": "code",
   "execution_count": 2,
   "metadata": {},
   "outputs": [
    {
     "name": "stdout",
     "output_type": "stream",
     "text": [
      "[[  2.12  43.3    0.     0.     1.   150.   358.  ]\n",
      " [  4.13  43.1    1.     0.     2.   152.   359.  ]\n",
      " [  3.14  43.25   1.     0.     3.   152.   358.  ]\n",
      " [  2.25  42.75   1.     3.     4.   152.   357.  ]\n",
      " [  2.37  43.25   2.     5.     5.   153.   359.  ]\n",
      " [  2.75  43.35   2.     3.     6.   156.   356.  ]\n",
      " [  2.85  43.55   2.     3.     7.   156.   356.  ]\n",
      " [  2.95  42.35   3.     3.     8.   156.   356.  ]\n",
      " [  3.15  44.35   3.     7.     9.   156.   356.  ]]\n"
     ]
    }
   ],
   "source": [
    "a=np.array([[2.12,43.3,0,0,1,150.,358],[4.13,43.1,1,0,2,152,359],[3.14,43.25,1,0,3,152,358],\n",
    "            [2.25,42.75,1,3,4,152,357],[2.37,43.25,2,5,5,153,359],[2.75,43.35,2,3,6,156,356],\n",
    "            [2.85,43.55,2,3,7,156,356],[2.95,42.35,3,3,8,156,356],[3.15,44.35,3,7,9,156,356]])\n",
    "print(a)"
   ]
  },
  {
   "cell_type": "markdown",
   "metadata": {},
   "source": [
    "<h3>Copie de la derniere colonne dans les deux dernieres\n"
   ]
  },
  {
   "cell_type": "code",
   "execution_count": 3,
   "metadata": {},
   "outputs": [
    {
     "name": "stdout",
     "output_type": "stream",
     "text": [
      "[[  2.12  43.3    0.     0.     1.   150.   358.  ]\n",
      " [  4.13  43.1    1.     0.     2.   152.   359.  ]\n",
      " [  3.14  43.25   1.     0.     3.   152.   358.  ]\n",
      " [  2.25  42.75   1.     3.     4.   152.   357.  ]\n",
      " [  2.37  43.25   2.     5.     5.   153.   359.  ]\n",
      " [  2.75  43.35   2.     3.     6.   156.   356.  ]\n",
      " [  2.85  43.55   2.     3.     7.   156.   356.  ]\n",
      " [  2.95  42.35   3.     3.     8.   156.   356.  ]\n",
      " [  3.15  44.35   3.     7.     9.   156.   356.  ]]\n"
     ]
    }
   ],
   "source": [
    "b=np.copy(a)\n",
    "print (b)"
   ]
  },
  {
   "cell_type": "code",
   "execution_count": 4,
   "metadata": {},
   "outputs": [
    {
     "name": "stdout",
     "output_type": "stream",
     "text": [
      "[[  2.12  43.3    0.     0.     1.   150.   358.  ]\n",
      " [  4.13  43.1    1.     0.     2.   152.   359.  ]\n",
      " [  3.14  43.25   1.     0.     3.   152.   358.  ]\n",
      " [  2.25  42.75   1.     3.     4.   152.   357.  ]\n",
      " [  2.37  43.25   2.     5.     5.   153.   359.  ]\n",
      " [  2.75  43.35   2.     3.     6.   156.   356.  ]\n",
      " [  2.85  43.55   2.     3.     7.   156.   356.  ]\n",
      " [  2.85  43.55   2.     3.     7.   156.   356.  ]\n",
      " [  2.85  43.55   2.     3.     7.   156.   356.  ]]\n",
      "\n",
      "[[  2.85  43.55   2.     3.     7.   156.   356.  ]\n",
      " [  2.85  43.55   2.     3.     7.   156.   356.  ]]\n"
     ]
    }
   ],
   "source": [
    "b[-2:,:]=b[-3,:]\n",
    "\n",
    "print(b)\n",
    "print()\n",
    "print (b[-2:,:])"
   ]
  },
  {
   "cell_type": "code",
   "execution_count": 5,
   "metadata": {},
   "outputs": [
    {
     "name": "stdout",
     "output_type": "stream",
     "text": [
      "(9, 7)\n"
     ]
    }
   ],
   "source": [
    "print (a.shape)\n"
   ]
  },
  {
   "cell_type": "markdown",
   "metadata": {},
   "source": [
    "<h3>Suppression de la dernière colonne"
   ]
  },
  {
   "cell_type": "code",
   "execution_count": 6,
   "metadata": {},
   "outputs": [
    {
     "name": "stdout",
     "output_type": "stream",
     "text": [
      "[[  2.12  43.3    0.     0.     1.   150.  ]\n",
      " [  4.13  43.1    1.     0.     2.   152.  ]\n",
      " [  3.14  43.25   1.     0.     3.   152.  ]\n",
      " [  2.25  42.75   1.     3.     4.   152.  ]\n",
      " [  2.37  43.25   2.     5.     5.   153.  ]\n",
      " [  2.75  43.35   2.     3.     6.   156.  ]\n",
      " [  2.85  43.55   2.     3.     7.   156.  ]\n",
      " [  2.95  42.35   3.     3.     8.   156.  ]\n",
      " [  3.15  44.35   3.     7.     9.   156.  ]]\n",
      "(9, 6)\n"
     ]
    }
   ],
   "source": [
    "# je veux supprimer la derniere colonne\n",
    "a= a[:,:-1]\n",
    "print(a)\n",
    "\n",
    "print (a.shape)"
   ]
  },
  {
   "cell_type": "markdown",
   "metadata": {},
   "source": [
    "<h3>Creation d'un tableau de points complexes aleatoires  pour test"
   ]
  },
  {
   "cell_type": "code",
   "execution_count": 7,
   "metadata": {},
   "outputs": [
    {
     "name": "stdout",
     "output_type": "stream",
     "text": [
      "[ 21.56402194+45.41473743j  12.84853135+55.39076943j\n",
      " 141.2486141 +64.64302258j 353.07461148+63.96649492j\n",
      " 269.03080942 +2.16395728j  38.10530598+70.25584841j\n",
      "  63.81598818+55.78788167j 298.40947368+67.49880917j\n",
      " 153.93353506+69.11030715j 151.2980697 +58.99439371j]\n"
     ]
    }
   ],
   "source": [
    "a=np.random.rand(10)*360+np.random.rand(10)*90*1j\n",
    "\n",
    "print(a)\n"
   ]
  },
  {
   "cell_type": "markdown",
   "metadata": {},
   "source": [
    "##### "
   ]
  },
  {
   "cell_type": "code",
   "execution_count": 8,
   "metadata": {},
   "outputs": [
    {
     "name": "stdout",
     "output_type": "stream",
     "text": [
      "[[197.57286141]\n",
      " [257.46817189]\n",
      " [216.99481539]\n",
      " [196.15794588]\n",
      " [152.51572776]\n",
      " [232.5218807 ]\n",
      " [157.53139605]\n",
      " [321.03828028]\n",
      " [346.91859378]\n",
      " [138.03894678]]\n",
      "[[ 26.25525343]\n",
      " [  2.60054278]\n",
      " [  6.1240105 ]\n",
      " [ 38.30369745]\n",
      " [-38.60675476]\n",
      " [-37.15836303]\n",
      " [-43.18034423]\n",
      " [ 29.9357861 ]\n",
      " [ 25.03410759]\n",
      " [ 33.30109334]]\n"
     ]
    }
   ],
   "source": [
    "np.random.seed(0)\n",
    "a=(np.random.rand(10)*360).reshape(-1,1)\n",
    "b=((np.random.rand(10)*90)-45).reshape(-1,1)\n",
    "print(a)\n",
    "print(b)\n"
   ]
  },
  {
   "cell_type": "code",
   "execution_count": 9,
   "metadata": {},
   "outputs": [
    {
     "name": "stdout",
     "output_type": "stream",
     "text": [
      "[[197.57286141  26.25525343]\n",
      " [257.46817189   2.60054278]\n",
      " [216.99481539   6.1240105 ]\n",
      " [196.15794588  38.30369745]\n",
      " [152.51572776 -38.60675476]\n",
      " [232.5218807  -37.15836303]\n",
      " [157.53139605 -43.18034423]\n",
      " [321.03828028  29.9357861 ]\n",
      " [346.91859378  25.03410759]\n",
      " [138.03894678  33.30109334]]\n"
     ]
    }
   ],
   "source": [
    "c= np.concatenate((a,b),axis=1)\n",
    "print(c)"
   ]
  },
  {
   "cell_type": "code",
   "execution_count": 10,
   "metadata": {},
   "outputs": [
    {
     "name": "stdout",
     "output_type": "stream",
     "text": [
      "10\n"
     ]
    }
   ],
   "source": [
    "print(c.shape[0])"
   ]
  },
  {
   "cell_type": "code",
   "execution_count": 11,
   "metadata": {},
   "outputs": [
    {
     "name": "stdout",
     "output_type": "stream",
     "text": [
      "[[197.57286141]\n",
      " [257.46817189]\n",
      " [216.99481539]\n",
      " [196.15794588]\n",
      " [152.51572776]\n",
      " [232.5218807 ]\n",
      " [157.53139605]\n",
      " [321.03828028]\n",
      " [346.91859378]\n",
      " [138.03894678]]\n"
     ]
    }
   ],
   "source": [
    "print (c[:,:1])"
   ]
  },
  {
   "cell_type": "code",
   "execution_count": 12,
   "metadata": {},
   "outputs": [
    {
     "name": "stdout",
     "output_type": "stream",
     "text": [
      "[[71.25525343]\n",
      " [47.60054278]\n",
      " [51.1240105 ]\n",
      " [83.30369745]\n",
      " [ 6.39324524]\n",
      " [ 7.84163697]\n",
      " [ 1.81965577]\n",
      " [74.9357861 ]\n",
      " [70.03410759]\n",
      " [78.30109334]]\n"
     ]
    }
   ],
   "source": [
    "print(c[:,1:]+45)"
   ]
  },
  {
   "cell_type": "code",
   "execution_count": 13,
   "metadata": {},
   "outputs": [
    {
     "name": "stdout",
     "output_type": "stream",
     "text": [
      "[116.25525343  92.60054278  96.1240105  128.30369745  51.39324524\n",
      "  52.84163697  46.81965577 119.9357861  115.03410759 123.30109334]\n"
     ]
    }
   ],
   "source": [
    "ilati =  c.T[1] + 90\n",
    "print(ilati)"
   ]
  },
  {
   "cell_type": "code",
   "execution_count": 14,
   "metadata": {},
   "outputs": [
    {
     "name": "stdout",
     "output_type": "stream",
     "text": [
      "[[1, 2], [2, 2], [1, 1]]\n"
     ]
    }
   ],
   "source": [
    "x=np.array([1,2,1]).reshape((-1,1))\n",
    "y=np.array([2,2,1]).reshape((-1,1))\n",
    "z=(np.concatenate((x,y),axis=1))\n",
    "z=[arr.tolist() for arr in z]\n",
    "print(z)"
   ]
  },
  {
   "cell_type": "code",
   "execution_count": 15,
   "metadata": {},
   "outputs": [
    {
     "name": "stdout",
     "output_type": "stream",
     "text": [
      "[1, 2]\n"
     ]
    }
   ],
   "source": [
    "print(z[0])"
   ]
  },
  {
   "cell_type": "code",
   "execution_count": 16,
   "metadata": {},
   "outputs": [
    {
     "name": "stdout",
     "output_type": "stream",
     "text": [
      "[[257.46817189]\n",
      " [216.99481539]]\n"
     ]
    }
   ],
   "source": [
    "print(a[z[0]])"
   ]
  },
  {
   "cell_type": "code",
   "execution_count": 17,
   "metadata": {},
   "outputs": [
    {
     "name": "stderr",
     "output_type": "stream",
     "text": [
      "/home/jphe/anaconda3/lib/python3.7/site-packages/ipykernel_launcher.py:1: FutureWarning: Using a non-tuple sequence for multidimensional indexing is deprecated; use `arr[tuple(seq)]` instead of `arr[seq]`. In the future this will be interpreted as an array index, `arr[np.array(seq)]`, which will result either in an error or a different result.\n",
      "  \"\"\"Entry point for launching an IPython kernel.\n"
     ]
    },
    {
     "ename": "IndexError",
     "evalue": "too many indices for array: array is 2-dimensional, but 3 were indexed",
     "output_type": "error",
     "traceback": [
      "\u001b[0;31m---------------------------------------------------------------------------\u001b[0m",
      "\u001b[0;31mIndexError\u001b[0m                                Traceback (most recent call last)",
      "\u001b[0;32m<ipython-input-17-5022522fad8f>\u001b[0m in \u001b[0;36m<module>\u001b[0;34m\u001b[0m\n\u001b[0;32m----> 1\u001b[0;31m \u001b[0mprint\u001b[0m\u001b[0;34m(\u001b[0m\u001b[0ma\u001b[0m\u001b[0;34m[\u001b[0m\u001b[0mz\u001b[0m\u001b[0;34m]\u001b[0m\u001b[0;34m)\u001b[0m\u001b[0;34m\u001b[0m\u001b[0;34m\u001b[0m\u001b[0m\n\u001b[0m",
      "\u001b[0;31mIndexError\u001b[0m: too many indices for array: array is 2-dimensional, but 3 were indexed"
     ]
    }
   ],
   "source": []
  },
  {
   "cell_type": "code",
   "execution_count": null,
   "metadata": {},
   "outputs": [],
   "source": []
  }
 ],
 "metadata": {
  "kernelspec": {
   "display_name": "Python 3",
   "language": "python",
   "name": "python3"
  },
  "language_info": {
   "codemirror_mode": {
    "name": "ipython",
    "version": 3
   },
   "file_extension": ".py",
   "mimetype": "text/x-python",
   "name": "python",
   "nbconvert_exporter": "python",
   "pygments_lexer": "ipython3",
   "version": "3.7.6"
  }
 },
 "nbformat": 4,
 "nbformat_minor": 4
}
