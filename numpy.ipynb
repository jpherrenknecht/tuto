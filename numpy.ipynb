{
 "cells": [
  {
   "cell_type": "markdown",
   "metadata": {},
   "source": [
    "<h1> Exemples Numpy"
   ]
  },
  {
   "cell_type": "code",
   "execution_count": 38,
   "metadata": {},
   "outputs": [],
   "source": [
    "import numpy as np\n",
    "import time"
   ]
  },
  {
   "cell_type": "markdown",
   "metadata": {},
   "source": [
    "<h3>Tri stable de numpy sur une colonne"
   ]
  },
  {
   "cell_type": "code",
   "execution_count": 67,
   "metadata": {},
   "outputs": [
    {
     "name": "stdout",
     "output_type": "stream",
     "text": [
      "[[  2.12  43.3    0.     0.     1.   150.   358.  ]\n",
      " [  4.13  43.1    1.     0.     2.   152.   359.  ]\n",
      " [  3.14  43.25   1.     0.     3.   152.   358.  ]\n",
      " [  2.25  42.75   1.     3.     4.   152.   357.  ]\n",
      " [  2.37  43.25   2.     5.     5.   153.   359.  ]\n",
      " [  2.75  43.35   2.     3.     6.   156.   356.  ]\n",
      " [  2.85  43.55   2.     3.     7.   156.   356.  ]\n",
      " [  2.95  42.35   3.     3.     8.   156.   356.  ]\n",
      " [  3.15  44.35   3.     7.     9.   156.   356.  ]]\n"
     ]
    }
   ],
   "source": [
    "a=np.array([[2.12,43.3,0,0,1,150.,358],[4.13,43.1,1,0,2,152,359],[3.14,43.25,1,0,3,152,358],\n",
    "            [2.25,42.75,1,3,4,152,357],[2.37,43.25,2,5,5,153,359],[2.75,43.35,2,3,6,156,356],\n",
    "            [2.85,43.55,2,3,7,156,356],[2.95,42.35,3,3,8,156,356],[3.15,44.35,3,7,9,156,356]])\n",
    "print(a)"
   ]
  },
  {
   "cell_type": "code",
   "execution_count": 79,
   "metadata": {},
   "outputs": [
    {
     "name": "stdout",
     "output_type": "stream",
     "text": [
      "[[ 2.12 43.3 ]\n",
      " [ 4.13 43.1 ]\n",
      " [ 3.14 43.25]\n",
      " [ 2.25 42.75]\n",
      " [ 2.37 43.25]\n",
      " [ 2.75 43.35]\n",
      " [ 2.85 43.55]\n",
      " [ 2.95 42.35]\n",
      " [ 3.15 44.35]]\n",
      "[[0.]\n",
      " [1.]\n",
      " [1.]\n",
      " [1.]\n",
      " [2.]\n",
      " [2.]\n",
      " [2.]\n",
      " [3.]\n",
      " [3.]]\n",
      "[[0. 0.]\n",
      " [1. 0.]\n",
      " [1. 0.]\n",
      " [1. 3.]\n",
      " [2. 5.]\n",
      " [2. 3.]\n",
      " [2. 3.]\n",
      " [3. 3.]\n",
      " [3. 7.]]\n"
     ]
    }
   ],
   "source": [
    "b=a[:,0:2]\n",
    "print(b)\n",
    "TWS=a[:,2:3]\n",
    "print(TWS)\n",
    "print(d)"
   ]
  },
  {
   "cell_type": "code",
   "execution_count": 72,
   "metadata": {},
   "outputs": [
    {
     "name": "stdout",
     "output_type": "stream",
     "text": [
      "[0. 0. 0. 3. 5. 3. 3. 3. 7.]\n",
      "{1.0: 0.0, 2.0: 0.0, 3.0: 0.0, 4.0: 3.0, 5.0: 5.0, 6.0: 3.0, 7.0: 3.0, 8.0: 3.0, 9.0: 7.0}\n"
     ]
    }
   ],
   "source": [
    "# fabrication d'un dictionnaire\n",
    "print(a[:,3])\n",
    "dico = dict(zip(a[:,4],a[:,3]))\n",
    "print(d)"
   ]
  },
  {
   "cell_type": "code",
   "execution_count": 74,
   "metadata": {},
   "outputs": [
    {
     "name": "stdout",
     "output_type": "stream",
     "text": [
      "[0, 3, 7, 9]\n"
     ]
    }
   ],
   "source": [
    "# remontee du dictionnaire \n",
    "n=3     #n = nombre des isochrones\n",
    "nb=9\n",
    "route=[nb]\n",
    "for i in range (n) :      \n",
    "    nb=int(dico[nb])\n",
    "    route.append(nb)\n",
    "route.reverse()\n",
    "print(route)\n",
    "    \n"
   ]
  },
  {
   "cell_type": "code",
   "execution_count": 61,
   "metadata": {},
   "outputs": [
    {
     "name": "stdout",
     "output_type": "stream",
     "text": [
      "[[  2.12  43.3    0.     0.     1.   150.   358.  ]\n",
      " [  4.13  43.1    1.     0.     2.   152.   359.  ]\n",
      " [  3.14  43.25   1.     0.     3.   152.   358.  ]\n",
      " [  2.25  42.75   1.     3.     4.   152.   357.  ]\n",
      " [  2.37  43.25   2.     5.     5.   153.   359.  ]\n",
      " [  2.75  43.35   2.     3.     6.   156.   356.  ]\n",
      " [  2.85  43.55   2.     3.     7.   156.   356.  ]\n",
      " [  2.95  42.35   3.     3.     8.   156.   356.  ]\n",
      " [  3.15  44.35   3.     7.     9.   156.   356.  ]]\n"
     ]
    }
   ],
   "source": [
    "# tri stable sur 5eme colonne\n",
    "a = a[a[:,4].argsort(kind='mergesort')]\n",
    "print (a)"
   ]
  },
  {
   "cell_type": "code",
   "execution_count": 62,
   "metadata": {},
   "outputs": [
    {
     "name": "stdout",
     "output_type": "stream",
     "text": [
      "[[  2.12  43.3    0.     0.     1.   150.   358.  ]\n",
      " [  4.13  43.1    1.     0.     2.   152.   359.  ]\n",
      " [  3.14  43.25   1.     0.     3.   152.   358.  ]\n",
      " [  2.25  42.75   1.     3.     4.   152.   357.  ]\n",
      " [  2.37  43.25   2.     5.     5.   153.   359.  ]\n",
      " [  2.75  43.35   2.     3.     6.   156.   356.  ]\n",
      " [  2.85  43.55   2.     3.     7.   156.   356.  ]\n",
      " [  2.95  42.35   3.     3.     8.   156.   356.  ]\n",
      " [  3.15  44.35   3.     7.     9.   156.   356.  ]]\n",
      "9\n"
     ]
    }
   ],
   "source": [
    "# Puis sur la 4eme (l'ordre est conservé sur la dernière qui avait déjà été triée)\n",
    "a = a[a[:,5].argsort(kind='mergesort')]\n",
    "print (a)\n",
    "print(a.shape[0])"
   ]
  },
  {
   "cell_type": "markdown",
   "metadata": {},
   "source": [
    "<h3> On veut conserver les distances les plus courtes"
   ]
  },
  {
   "cell_type": "code",
   "execution_count": 63,
   "metadata": {},
   "outputs": [
    {
     "name": "stdout",
     "output_type": "stream",
     "text": [
      "[[  2.12  43.3    0.     0.     1.   150.   358.  ]\n",
      " [  4.13  43.1    1.     0.     2.   152.   359.  ]\n",
      " [  2.37  43.25   2.     5.     5.   153.   359.  ]\n",
      " [  2.75  43.35   2.     3.     6.   156.   356.  ]]\n"
     ]
    }
   ],
   "source": [
    "for i in range(a.shape[0] - 1, 0, -1):  # ecremage\n",
    "        if (a[i][5]) == (a[i - 1][5]):\n",
    "            a = np.delete(a, i, 0)\n",
    "print(a)"
   ]
  },
  {
   "cell_type": "code",
   "execution_count": 43,
   "metadata": {},
   "outputs": [
    {
     "name": "stdout",
     "output_type": "stream",
     "text": [
      "[356. 357. 358. 359.]\n",
      "[ 56. 104. 102.  89.]\n"
     ]
    }
   ],
   "source": [
    "def twa(cap, dvent):\n",
    "    twa = 180 - abs(((360 - dvent + cap) % 360) - 180)\n",
    "    return twa\n",
    "print(a[:,5])\n",
    "dvent=np.array([300,101,100,270])\n",
    "TWA=twa(a[:,5],dvent )\n",
    "print (TWA)"
   ]
  },
  {
   "cell_type": "markdown",
   "metadata": {},
   "source": [
    "<h3>Renumerotation des points sur la colonne 3"
   ]
  },
  {
   "cell_type": "code",
   "execution_count": 44,
   "metadata": {},
   "outputs": [
    {
     "name": "stdout",
     "output_type": "stream",
     "text": [
      "4\n",
      "[3 4 5 6]\n",
      "[[  2.75  43.35   3.     3.   156.   356.  ]\n",
      " [  2.25  42.75   3.     4.   152.   357.  ]\n",
      " [  2.12  43.3    6.     5.   150.   358.  ]\n",
      " [  4.13  43.1    7.     6.   152.   359.  ]]\n"
     ]
    }
   ],
   "source": [
    "nbpoints= a.shape[0]\n",
    "print (nbpoints)\n",
    "# on renumerote a partir de 3 \n",
    "N=np.array(range(3,a.shape[0]+3,1))\n",
    "print (N)\n",
    "a[:,3]=N\n",
    "print(a)"
   ]
  },
  {
   "cell_type": "markdown",
   "metadata": {},
   "source": [
    "<h3> Extraction des xy pour un trace d'isochrone"
   ]
  },
  {
   "cell_type": "code",
   "execution_count": 85,
   "metadata": {},
   "outputs": [
    {
     "name": "stdout",
     "output_type": "stream",
     "text": [
      "[[-43.3   43.3 ]\n",
      " [-43.1   43.1 ]\n",
      " [-43.25  43.25]\n",
      " [-42.75  42.75]\n",
      " [-43.25  43.25]\n",
      " [-43.35  43.35]\n",
      " [-43.55  43.55]\n",
      " [-42.35  42.35]\n",
      " [-44.35  44.35]]\n",
      "[[-43.3         43.3        248.04021058]\n",
      " [-43.1         43.1        247.60624382]\n",
      " [-43.25        43.25       247.30197041]\n",
      " [-42.75        42.75       247.04196064]\n",
      " [-43.25        43.25       246.78548283]\n",
      " [-43.35        43.35       246.5296352 ]\n",
      " [-43.55        43.55       246.27327227]\n",
      " [-42.35        42.35       247.60624382]\n",
      " [-44.35        44.35       247.30197041]]\n"
     ]
    }
   ],
   "source": [
    "# premiere et deuxieme colonne\n",
    "tic= time.time()\n",
    "X=a[:,0].reshape(-1,1)\n",
    "Y=a[:,1].reshape(-1,1)\n",
    "for i in range (100):\n",
    "   \n",
    "    points=np.concatenate((-a[:,1].reshape(-1,1),a[:,1].reshape(-1,1)),axis=1)\n",
    "\n",
    "print (points)\n",
    "tac=time.time()\n",
    "#print ((tic-tac))\n",
    "#permutation et changement de signe \n",
    "#on inverse l'ordre des colonnes\n",
    "#print(np.fliplr(b))\n",
    "TWD= np.array( [248.04021058, 247.60624382, 247.30197041, 247.04196064, 246.78548283,\n",
    " 246.5296352,  246.27327227, 247.60624382, 247.30197041,])\n",
    "TWD2=TWD.reshape(-1,1)\n",
    "tab= np.concatenate((points,TWD.reshape(-1,1)),axis=1)\n",
    "print(tab)"
   ]
  },
  {
   "cell_type": "markdown",
   "metadata": {},
   "source": [
    "<h3>Formation d'un dictionnaire de correspondances points / points mere par slicing"
   ]
  },
  {
   "cell_type": "code",
   "execution_count": null,
   "metadata": {},
   "outputs": [],
   "source": []
  },
  {
   "cell_type": "code",
   "execution_count": 173,
   "metadata": {},
   "outputs": [
    {
     "name": "stdout",
     "output_type": "stream",
     "text": [
      "[[3. 3.]\n",
      " [3. 4.]\n",
      " [6. 5.]\n",
      " [7. 6.]]\n"
     ]
    }
   ],
   "source": [
    "# slice des colonnes 2 et 3\n",
    "dico=a[:,2:4]\n",
    "print(dico)"
   ]
  },
  {
   "cell_type": "markdown",
   "metadata": {},
   "source": [
    "<h3> Remontee des numeros de points"
   ]
  },
  {
   "cell_type": "code",
   "execution_count": 156,
   "metadata": {},
   "outputs": [
    {
     "name": "stdout",
     "output_type": "stream",
     "text": [
      "[[ 1  3]\n",
      " [ 3  8]\n",
      " [ 3  9]\n",
      " [ 3 10]\n",
      " [ 8 11]\n",
      " [ 8 12]\n",
      " [ 9 13]\n",
      " [11 14]\n",
      " [11 15]\n",
      " [12 16]\n",
      " [12 17]\n",
      " [16 18]]\n",
      "[ 1  3  3  3  8  8  9 11 11 12 12 16]\n",
      "[ 3  8  9 10 11 12 13 14 15 16 17 18]\n"
     ]
    }
   ],
   "source": [
    "dico=np.array([[1,3],[3,8],[3,9],[3,10],[8,11],[8,12],[9,13],[11,14],[11,15],[12,16],[12,17],[16,18]])\n",
    "print(dico)\n",
    "ptm=dico[:,0]\n",
    "print(ptm)\n",
    "pt=dico[:,1]\n",
    "print (pt)\n"
   ]
  },
  {
   "cell_type": "code",
   "execution_count": 163,
   "metadata": {},
   "outputs": [
    {
     "name": "stdout",
     "output_type": "stream",
     "text": [
      "{3: 1, 8: 3, 9: 3, 10: 3, 11: 8, 12: 8, 13: 9, 14: 11, 15: 11, 16: 12, 17: 12, 18: 16}\n"
     ]
    }
   ],
   "source": [
    "d = dict(zip(pt,ptm))\n",
    "print (d)\n",
    "nf=18\n"
   ]
  },
  {
   "cell_type": "markdown",
   "metadata": {},
   "source": [
    "<h3> Maximum sur une colonne"
   ]
  },
  {
   "cell_type": "code",
   "execution_count": 71,
   "metadata": {},
   "outputs": [
    {
     "name": "stdout",
     "output_type": "stream",
     "text": [
      "[3 0 3 4 4 4]\n",
      "Valeur maximum sur colonne 5\n",
      "359\n"
     ]
    }
   ],
   "source": [
    "#ligne des maximums\n",
    "print(np.argmax(a,axis=0))\n",
    "#d'ou valeur max sur la 4eme colonne (axis =0)\n",
    "print ('Valeur maximum sur colonne 5')\n",
    "print (a[np.argmax(a,0)[5],5])\n"
   ]
  },
  {
   "cell_type": "code",
   "execution_count": 187,
   "metadata": {},
   "outputs": [
    {
     "name": "stdout",
     "output_type": "stream",
     "text": [
      "[10 15 12 13 11 18 15 17]\n",
      "0\n",
      "10\n"
     ]
    }
   ],
   "source": [
    "T_a =np.array([10,15,12,13,11,18,15,17])\n",
    "print(T_a)\n",
    "print(np.argmin(T_a,0))   # 0 pour axis=0\n",
    "print(T_a[np.argmin(T_a,0)])"
   ]
  },
  {
   "cell_type": "markdown",
   "metadata": {},
   "source": [
    "<h3>Decomposition complexes en coordonnees"
   ]
  },
  {
   "cell_type": "code",
   "execution_count": 72,
   "metadata": {},
   "outputs": [
    {
     "name": "stdout",
     "output_type": "stream",
     "text": [
      "[2.+5.j 3.+4.j 7.+8.j]\n"
     ]
    }
   ],
   "source": [
    "a=np.array([2+5*1j,3+4*1j,7+8*1j])\n",
    "print(a)\n"
   ]
  },
  {
   "cell_type": "code",
   "execution_count": 73,
   "metadata": {},
   "outputs": [
    {
     "name": "stdout",
     "output_type": "stream",
     "text": [
      "[[-5.  2.]\n",
      " [-4.  3.]\n",
      " [-8.  7.]]\n",
      "[[-5.0, 2.0], [-4.0, 3.0], [-8.0, 7.0]]\n"
     ]
    }
   ],
   "source": [
    "X=a.real.reshape(-1,1)\n",
    "Y=a.imag.reshape(-1,1)\n",
    "points=np.concatenate((-Y,X),axis=1)\n",
    "print(points)\n",
    "print(points.tolist())"
   ]
  },
  {
   "cell_type": "code",
   "execution_count": 74,
   "metadata": {},
   "outputs": [
    {
     "name": "stdout",
     "output_type": "stream",
     "text": [
      "[[-5.0, 2.0], [-4.0, 3.0], [-8.0, 7.0]]\n"
     ]
    }
   ],
   "source": [
    "# en une operation avec latitudes en premier \n",
    "points=np.concatenate((-a.imag.reshape(-1,1),a.real.reshape(-1,1)),axis=1).tolist()\n",
    "print(points)"
   ]
  },
  {
   "cell_type": "code",
   "execution_count": 75,
   "metadata": {},
   "outputs": [
    {
     "name": "stdout",
     "output_type": "stream",
     "text": [
      "(3,)\n"
     ]
    }
   ],
   "source": [
    "print(np.shape(a))\n"
   ]
  },
  {
   "cell_type": "code",
   "execution_count": 76,
   "metadata": {},
   "outputs": [
    {
     "name": "stdout",
     "output_type": "stream",
     "text": [
      "<class 'numpy.ndarray'>\n",
      "(3, 2)\n"
     ]
    }
   ],
   "source": [
    "X=a.real.reshape(-1,1)\n",
    "Y=a.imag.reshape(-1,1)\n",
    "points=np.concatenate((-Y,X),axis=1)\n",
    "print(type(points))\n",
    "print(np.shape(points))"
   ]
  },
  {
   "cell_type": "code",
   "execution_count": 77,
   "metadata": {},
   "outputs": [
    {
     "name": "stdout",
     "output_type": "stream",
     "text": [
      "[[2.]\n",
      " [3.]\n",
      " [7.]]\n"
     ]
    }
   ],
   "source": [
    "print(X)"
   ]
  },
  {
   "cell_type": "code",
   "execution_count": 78,
   "metadata": {},
   "outputs": [
    {
     "name": "stdout",
     "output_type": "stream",
     "text": [
      "[[10 45]]\n"
     ]
    }
   ],
   "source": [
    "\n",
    "points= np.array([[10,45],[12,44],[13,47]])\n",
    "points= np.array([[10,45]])\n",
    "print (points)"
   ]
  },
  {
   "cell_type": "code",
   "execution_count": 79,
   "metadata": {},
   "outputs": [
    {
     "name": "stdout",
     "output_type": "stream",
     "text": [
      "[10]\n",
      "[45]\n",
      "[10.+45.j]\n"
     ]
    }
   ],
   "source": [
    "# transformation en points complexes\n",
    "\n",
    "X=points[:,0]\n",
    "print (X)\n",
    "Y=points[:,1]\n",
    "print(Y)\n",
    "\n",
    "\n",
    "cplx=points[:,0]+points[:,1]*1j\n",
    "print(cplx)"
   ]
  },
  {
   "cell_type": "code",
   "execution_count": 80,
   "metadata": {},
   "outputs": [
    {
     "name": "stdout",
     "output_type": "stream",
     "text": [
      "[[10. 45.]]\n",
      "1\n"
     ]
    }
   ],
   "source": [
    "#transformation complexe en points x y\n",
    "points=np.concatenate((cplx.real.reshape(-1,1),cplx.imag.reshape(-1,1)),axis=1)\n",
    "print (points)\n",
    "print (points.shape[0])"
   ]
  },
  {
   "cell_type": "code",
   "execution_count": 81,
   "metadata": {},
   "outputs": [
    {
     "name": "stdout",
     "output_type": "stream",
     "text": [
      "[[  2   3   6   3   3 358]\n",
      " [  4   6   7   5   5 359]\n",
      " [  8   2   9   4   1   0]\n",
      " [  2   8   3   3   2   1]\n",
      " [  2   7   3   3   1  10]]\n"
     ]
    }
   ],
   "source": [
    "a=np.array([[2,3,6,3,3,358],[4,6,7,5,5,359],[8,2,9,4,1,0],[2,8,3,3,2,1],[2,7,3,3,1,10]])\n",
    "print(a)"
   ]
  },
  {
   "cell_type": "code",
   "execution_count": 82,
   "metadata": {},
   "outputs": [
    {
     "name": "stdout",
     "output_type": "stream",
     "text": [
      "[[2 3]\n",
      " [4 6]\n",
      " [8 2]\n",
      " [2 8]\n",
      " [2 7]]\n"
     ]
    }
   ],
   "source": [
    "# garder les deux premieres colonnes\n",
    "b= a[:,0:2]\n",
    "print(b)"
   ]
  },
  {
   "cell_type": "code",
   "execution_count": 83,
   "metadata": {},
   "outputs": [
    {
     "name": "stdout",
     "output_type": "stream",
     "text": [
      "[2 4 8 2 2]\n",
      "[3 6 2 8 7]\n"
     ]
    }
   ],
   "source": [
    "#colonne des x\n",
    "x=a.T[0]\n",
    "\n",
    "print(x)\n",
    "y=a.T[1]\n",
    "#y=a[:,1:2]\n",
    "print(y)"
   ]
  },
  {
   "cell_type": "code",
   "execution_count": 84,
   "metadata": {},
   "outputs": [
    {
     "name": "stdout",
     "output_type": "stream",
     "text": [
      "[[2 3]\n",
      " [4 6]\n",
      " [8 2]\n",
      " [2 8]\n",
      " [2 7]]\n"
     ]
    }
   ],
   "source": [
    "# manoeuvre inverse attention il faut changer de nom\n",
    "u=x.reshape((1,-1))\n",
    "\n",
    "v=y.reshape((1, -1))\n",
    "\n",
    "c=np.concatenate((u.T, v.T),axis=1)\n",
    "print (c)"
   ]
  },
  {
   "cell_type": "code",
   "execution_count": 85,
   "metadata": {},
   "outputs": [
    {
     "name": "stdout",
     "output_type": "stream",
     "text": [
      "[[-10.  -2.]\n",
      " [-15.   3.]\n",
      " [ 50.  10.]]\n"
     ]
    }
   ],
   "source": [
    "cplx= np.array([[-10 - 2 * 1j, -15 + 3 * 1j, 50 + 10 * 1j]])\n",
    "points=np.concatenate((cplx.real.reshape(-1,1),cplx.imag.reshape(-1,1)),axis=1)\n",
    "print (points)"
   ]
  },
  {
   "cell_type": "code",
   "execution_count": 86,
   "metadata": {},
   "outputs": [
    {
     "name": "stdout",
     "output_type": "stream",
     "text": [
      "(1, 2)\n"
     ]
    }
   ],
   "source": [
    "points=np.array([[-73.62,-40.46]])\n",
    "print(points.shape)                "
   ]
  },
  {
   "cell_type": "code",
   "execution_count": 87,
   "metadata": {},
   "outputs": [
    {
     "name": "stdout",
     "output_type": "stream",
     "text": [
      "(1, 2)\n"
     ]
    }
   ],
   "source": [
    "points=np.array([[-73.62,-40.46]])\n",
    "A=(-3.8858333333333333-47.652499999999996j)\n",
    "print(points.shape) "
   ]
  },
  {
   "cell_type": "code",
   "execution_count": 88,
   "metadata": {},
   "outputs": [
    {
     "name": "stdout",
     "output_type": "stream",
     "text": [
      "(1, 2)\n",
      "(array([70.1041087]), array([84.11123935]))\n"
     ]
    }
   ],
   "source": [
    "def dist_cap4(points,A):\n",
    "    ''' points est une  liste de points a 2 dimensions , a est un point complexe '''\n",
    "    ''' on retourne un tableau des distances et des caps '''\n",
    "    print(points.shape)\n",
    "    D=points[:,0]+points[:,1]*1j   # on transforme les points en points complexes\n",
    "    C = A - D\n",
    "    return np.abs(C), (450 + np.angle(C, deg=True)) % 360\n",
    "\n",
    "\n",
    "\n",
    "print(dist_cap4(points,A))"
   ]
  },
  {
   "cell_type": "code",
   "execution_count": 89,
   "metadata": {},
   "outputs": [
    {
     "name": "stdout",
     "output_type": "stream",
     "text": [
      "[[ 0.  0.  1.  3. 15.]\n",
      " [ 1.  1.  1.  3. 16.]\n",
      " [ 2.  2.  1.  3. 17.]\n",
      " [ 3.  3.  1.  3. 18.]\n",
      " [ 4.  4.  1.  3. 19.]\n",
      " [ 5.  5.  1.  3. 20.]\n",
      " [ 6.  6.  1.  3. 21.]\n",
      " [ 7.  7.  1.  3. 22.]\n",
      " [ 8.  8.  1.  3. 23.]\n",
      " [ 9.  9.  1.  3. 24.]]\n",
      "1.0499463081359863\n"
     ]
    }
   ],
   "source": [
    "import time\n",
    "X=np.array([0.,1,2,3,4,5,6,7,8,9])\n",
    "Y= np.array(range(10))\n",
    "Z = np.ones(10)\n",
    "W=(np.ones(10)*3)\n",
    "V=(np.array(range(10))+15)\n",
    "\n",
    "\n",
    "\n",
    "#print(X.shape)\n",
    "#print(Y.shape)\n",
    "#print(Z.shape)\n",
    "#print(W.shape)\n",
    "#print(V.shape)\n",
    "tic =time.time()\n",
    "for i in range (1000000):\n",
    "    X1=X.reshape(-1,1)\n",
    "    Y1=Y.reshape(-1,1)\n",
    "    Z1=Z.reshape(-1,1)\n",
    "    V1=V.reshape(-1,1)\n",
    "    W1=W.reshape(-1,1)\n",
    "\n",
    "total=np.concatenate((X1,Y1,Z1,W1,V1), axis=1)\n",
    "tac=time.time()\n",
    "\n",
    "print(total) \n",
    "print(tac-tic)"
   ]
  },
  {
   "cell_type": "code",
   "execution_count": 90,
   "metadata": {},
   "outputs": [
    {
     "name": "stdout",
     "output_type": "stream",
     "text": [
      "[[ 0.  0.  1.  3. 15.]\n",
      " [ 1.  1.  1.  3. 16.]\n",
      " [ 2.  2.  1.  3. 17.]\n",
      " [ 3.  3.  1.  3. 18.]\n",
      " [ 4.  4.  1.  3. 19.]\n",
      " [ 5.  5.  1.  3. 20.]\n",
      " [ 6.  6.  1.  3. 21.]\n",
      " [ 7.  7.  1.  3. 22.]\n",
      " [ 8.  8.  1.  3. 23.]\n",
      " [ 9.  9.  1.  3. 24.]]\n",
      "2.655669689178467\n"
     ]
    }
   ],
   "source": [
    "X=np.array([0.,1,2,3,4,5,6,7,8,9])\n",
    "Y= np.array(range(10))\n",
    "Z = np.ones(10)\n",
    "W=(np.ones(10)*3)\n",
    "V=(np.array(range(10))+15)\n",
    "\n",
    "tic =time.time()\n",
    "for i in range (1000000):\n",
    "    total2 =np.ones((10,5))\n",
    "    #print(total2)\n",
    "    total2[:,0]=X\n",
    "    total2[:,1]=Y\n",
    "    total2[:,2]=Z\n",
    "    total2[:,3]=W\n",
    "    total2[:,4]=V\n",
    "tac=time.time()\n",
    "print (total2)\n",
    "print(tac-tic)\n"
   ]
  },
  {
   "cell_type": "code",
   "execution_count": 91,
   "metadata": {},
   "outputs": [
    {
     "name": "stdout",
     "output_type": "stream",
     "text": [
      "[[ 0.  0.  1.  3. 15.]\n",
      " [ 1.  1.  1.  3. 16.]\n",
      " [ 2.  2.  1.  3. 17.]\n",
      " [ 3.  3.  1.  3. 18.]\n",
      " [ 4.  4.  1.  3. 19.]\n",
      " [ 5.  5.  1.  3. 20.]\n",
      " [ 6.  6.  1.  3. 21.]\n",
      " [ 7.  7.  1.  3. 22.]\n",
      " [ 8.  8.  1.  3. 23.]\n",
      " [ 9.  9.  1.  3. 24.]]\n",
      "2.7774882316589355\n"
     ]
    }
   ],
   "source": [
    "import time\n",
    "X=np.array([0.,1,2,3,4,5,6,7,8,9])\n",
    "Y= np.array(range(10))\n",
    "Z = np.ones(10)\n",
    "W=(np.ones(10)*3)\n",
    "V=(np.array(range(10))+15)\n",
    "\n",
    "\n",
    "\n",
    "#print(X.shape)\n",
    "#print(Y.shape)\n",
    "#print(Z.shape)\n",
    "#print(W.shape)\n",
    "#print(V.shape)\n",
    "tic =time.time()\n",
    "for i in range (1000000):\n",
    "    #X1=X.reshape(-1,1)\n",
    "    #Y1=Y.reshape(-1,1)\n",
    "    #Z1=Z.reshape(-1,1)\n",
    "    #V1=V.reshape(-1,1)\n",
    "    #W1=W.reshape(-1,1)\n",
    "\n",
    "    total=np.concatenate((X.reshape(-1,1),Y.reshape(-1,1),Z.reshape(-1,1),W.reshape(-1,1),V.reshape(-1,1)), axis=1)\n",
    "tac=time.time()\n",
    "\n",
    "print(total) \n",
    "print(tac-tic)"
   ]
  },
  {
   "cell_type": "code",
   "execution_count": 92,
   "metadata": {},
   "outputs": [
    {
     "name": "stdout",
     "output_type": "stream",
     "text": [
      "[[ 0.  0.  1.  3. 15.]\n",
      " [ 1.  1.  1.  3. 16.]\n",
      " [ 2.  2.  1.  3. 17.]\n",
      " [ 3.  3.  1.  3. 18.]\n",
      " [ 4.  4.  1.  3. 19.]\n",
      " [ 5.  5.  1.  3. 20.]\n",
      " [ 6.  6.  1.  3. 21.]\n",
      " [ 7.  7.  1.  3. 22.]\n",
      " [ 8.  8.  1.  3. 23.]\n",
      " [ 9.  9.  1.  3. 24.]]\n",
      "\n",
      "\n",
      "\n",
      "\n",
      "\n",
      "[[ 0.  0.  0.  0.  0.]\n",
      " [ 0.  0.  1.  3. 15.]\n",
      " [ 1.  1.  1.  3. 16.]\n",
      " [ 2.  2.  1.  3. 17.]\n",
      " [ 3.  3.  1.  3. 18.]\n",
      " [ 4.  4.  1.  3. 19.]\n",
      " [ 5.  5.  1.  3. 20.]\n",
      " [ 6.  6.  1.  3. 21.]\n",
      " [ 7.  7.  1.  3. 22.]\n",
      " [ 8.  8.  1.  3. 23.]\n",
      " [ 9.  9.  1.  3. 24.]\n",
      " [10.  0.  1.  3. 15.]\n",
      " [11.  1.  1.  3. 16.]\n",
      " [12.  2.  1.  3. 17.]\n",
      " [13.  3.  1.  3. 18.]\n",
      " [14.  4.  1.  3. 19.]\n",
      " [15.  5.  1.  3. 20.]\n",
      " [16.  6.  1.  3. 21.]\n",
      " [17.  7.  1.  3. 22.]\n",
      " [18.  8.  1.  3. 23.]\n",
      " [19.  9.  1.  3. 24.]\n",
      " [20.  0.  1.  3. 15.]\n",
      " [21.  1.  1.  3. 16.]\n",
      " [22.  2.  1.  3. 17.]\n",
      " [23.  3.  1.  3. 18.]\n",
      " [24.  4.  1.  3. 19.]\n",
      " [25.  5.  1.  3. 20.]\n",
      " [26.  6.  1.  3. 21.]\n",
      " [27.  7.  1.  3. 22.]\n",
      " [28.  8.  1.  3. 23.]\n",
      " [29.  9.  1.  3. 24.]]\n"
     ]
    }
   ],
   "source": [
    "X=np.array([0.,1,2,3,4,5,6,7,8,9])\n",
    "Y= np.array(range(10))\n",
    "Z = np.ones(10)\n",
    "W=(np.ones(10)*3)\n",
    "V=(np.array(range(10))+15)\n",
    "\n",
    "X1=X.reshape(-1,1)\n",
    "Y1=Y.reshape(-1,1)\n",
    "Z1=Z.reshape(-1,1)\n",
    "V1=V.reshape(-1,1)\n",
    "W1=W.reshape(-1,1)\n",
    "\n",
    "complet1=np.concatenate((X1,Y1,Z1,W1,V1), axis=1)\n",
    "\n",
    "print (total)\n",
    "print()\n",
    "\n",
    "complet=np.array([[0,0,0,0,0]])\n",
    "for i in range (0,3,1):\n",
    "    X=np.array([0.,1,2,3,4,5,6,7,8,9])+10*i\n",
    "    Y= np.array(range(10))\n",
    "    Z = np.ones(10)\n",
    "    W=(np.ones(10)*3)\n",
    "    V=(np.array(range(10))+15)\n",
    "\n",
    "    X1=X.reshape(-1,1)\n",
    "    Y1=Y.reshape(-1,1)\n",
    "    Z1=Z.reshape(-1,1)\n",
    "    V1=V.reshape(-1,1)\n",
    "    W1=W.reshape(-1,1)\n",
    "\n",
    "    total2=np.concatenate((X1,Y1,Z1,W1,V1), axis=1)\n",
    "    complet=np.concatenate((complet,total2),axis=0)\n",
    "   \n",
    "    print()\n",
    "print()\n",
    "\n",
    "print (complet)\n",
    "\n"
   ]
  },
  {
   "cell_type": "code",
   "execution_count": 93,
   "metadata": {},
   "outputs": [
    {
     "name": "stdout",
     "output_type": "stream",
     "text": [
      "[[ 0.  0.  1.  3. 15.]\n",
      " [ 1.  1.  1.  3. 16.]\n",
      " [ 2.  2.  1.  3. 17.]\n",
      " [ 3.  3.  1.  3. 18.]\n",
      " [ 4.  4.  1.  3. 19.]\n",
      " [ 5.  5.  1.  3. 20.]\n",
      " [ 6.  6.  1.  3. 21.]\n",
      " [ 7.  7.  1.  3. 22.]\n",
      " [ 8.  8.  1.  3. 23.]\n",
      " [ 9.  9.  1.  3. 24.]\n",
      " [10.  0.  1.  3. 15.]\n",
      " [11.  1.  1.  3. 16.]\n",
      " [12.  2.  1.  3. 17.]\n",
      " [13.  3.  1.  3. 18.]\n",
      " [14.  4.  1.  3. 19.]\n",
      " [15.  5.  1.  3. 20.]\n",
      " [16.  6.  1.  3. 21.]\n",
      " [17.  7.  1.  3. 22.]\n",
      " [18.  8.  1.  3. 23.]\n",
      " [19.  9.  1.  3. 24.]\n",
      " [20.  0.  1.  3. 15.]\n",
      " [21.  1.  1.  3. 16.]\n",
      " [22.  2.  1.  3. 17.]\n",
      " [23.  3.  1.  3. 18.]\n",
      " [24.  4.  1.  3. 19.]\n",
      " [25.  5.  1.  3. 20.]\n",
      " [26.  6.  1.  3. 21.]\n",
      " [27.  7.  1.  3. 22.]\n",
      " [28.  8.  1.  3. 23.]\n",
      " [29.  9.  1.  3. 24.]]\n"
     ]
    }
   ],
   "source": [
    "complet=np.delete(complet,0,0)\n",
    "print (complet)"
   ]
  },
  {
   "cell_type": "markdown",
   "metadata": {},
   "source": [
    "<h3>Operation sur une colonne"
   ]
  },
  {
   "cell_type": "code",
   "execution_count": 94,
   "metadata": {},
   "outputs": [
    {
     "name": "stdout",
     "output_type": "stream",
     "text": [
      "[[ 0.  0.  1.  3. 15.]\n",
      " [ 1.  1.  1.  3. 16.]\n",
      " [ 2.  2.  1.  3. 17.]\n",
      " [ 3.  3.  1.  3. 18.]\n",
      " [ 4.  4.  1.  3. 19.]\n",
      " [ 5.  5.  1.  3. 20.]\n",
      " [ 6.  6.  1.  3. 21.]\n",
      " [ 7.  7.  1.  3. 22.]\n",
      " [ 8.  8.  1.  3. 23.]\n",
      " [ 9.  9.  1.  3. 24.]]\n"
     ]
    }
   ],
   "source": [
    "print(total)"
   ]
  },
  {
   "cell_type": "code",
   "execution_count": 95,
   "metadata": {},
   "outputs": [
    {
     "name": "stdout",
     "output_type": "stream",
     "text": [
      "[0. 1. 2. 3. 4. 5. 6. 7. 8. 9.]\n"
     ]
    }
   ],
   "source": [
    "print(total[:,0])"
   ]
  },
  {
   "cell_type": "code",
   "execution_count": 96,
   "metadata": {},
   "outputs": [
    {
     "name": "stdout",
     "output_type": "stream",
     "text": [
      "[[ 0.  0.  1.  3. 15.]\n",
      " [ 2.  1.  1.  3. 16.]\n",
      " [ 4.  2.  1.  3. 17.]\n",
      " [ 6.  3.  1.  3. 18.]\n",
      " [ 8.  4.  1.  3. 19.]\n",
      " [10.  5.  1.  3. 20.]\n",
      " [13.  6.  1.  3. 21.]\n",
      " [15.  7.  1.  3. 22.]\n",
      " [17.  8.  1.  3. 23.]\n",
      " [19.  9.  1.  3. 24.]]\n"
     ]
    }
   ],
   "source": [
    "total[:,0]=np.around(total[:,0]*2.1,0)\n",
    "print (total)"
   ]
  },
  {
   "cell_type": "code",
   "execution_count": null,
   "metadata": {},
   "outputs": [],
   "source": [
    "<h3>Version avec tableau Points,tws,twd"
   ]
  },
  {
   "cell_type": "code",
   "execution_count": null,
   "metadata": {},
   "outputs": [],
   "source": [
    "a=np.array([[2.12,43.3,0,0,1,150.,358],[4.13,43.1,1,0,2,152,359],[3.14,43.25,1,0,3,152,358],\n",
    "            [2.25,42.75,1,3,4,152,357],[2.37,43.25,2,5,5,153,359],[2.75,43.35,2,3,6,156,356],\n",
    "            [2.85,43.55,2,3,7,156,356],[2.95,42.35,3,3,8,156,356],[3.15,44.35,3,7,9,156,356]])\n",
    "print(a)"
   ]
  }
 ],
 "metadata": {
  "kernelspec": {
   "display_name": "Python 3",
   "language": "python",
   "name": "python3"
  },
  "language_info": {
   "codemirror_mode": {
    "name": "ipython",
    "version": 3
   },
   "file_extension": ".py",
   "mimetype": "text/x-python",
   "name": "python",
   "nbconvert_exporter": "python",
   "pygments_lexer": "ipython3",
   "version": "3.7.6"
  }
 },
 "nbformat": 4,
 "nbformat_minor": 4
}
